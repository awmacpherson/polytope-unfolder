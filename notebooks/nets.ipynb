{
 "cells": [
  {
   "cell_type": "code",
   "execution_count": 1,
   "id": "a3a6dc57",
   "metadata": {},
   "outputs": [],
   "source": [
    "from tope import Tope\n",
    "from tope.net import *\n",
    "from tope.orth import *\n",
    "from tests import normalize_polygon\n",
    "from typing import *\n",
    "\n",
    "import json, os, numpy as np\n",
    "rng = np.random.default_rng()\n",
    "with open(\"polys.json\") as fd: polys = json.load(fd)"
   ]
  },
  {
   "cell_type": "code",
   "execution_count": 4,
   "id": "e6793a04",
   "metadata": {},
   "outputs": [],
   "source": [
    "v_24cell = [\n",
    "    [1, 0, 0, 0], [-1, 0, 0, 0],\n",
    "    [0, 1, 0, 0], [0, -1, 0, 0],\n",
    "    [0, 0, 1, 0], [0, 0, -1, 0], \n",
    "    [0, 0, 0, 1], [0, 0, 0, -1],\n",
    "    [1, -1, 0, 0], [-1, 1, 0, 0], \n",
    "    [1, 0, -1, 0], [-1, 0, 1, 0], \n",
    "    [1, 0, 0, -1], [-1, 0, 0, 1], \n",
    "    [0, 1, -1, 0], [0, -1, 1, 0], \n",
    "    [0, 1, 0, -1], [0, -1, 0, 1],\n",
    "    [1, 0, -1, -1], [-1, 0, 1, 1], \n",
    "    [0, 1, -1, -1], [0, -1, 1, 1],\n",
    "    [1, 1, -1, -1], [-1, -1, 1, 1]\n",
    "]"
   ]
  },
  {
   "cell_type": "code",
   "execution_count": 5,
   "id": "8d81db2e",
   "metadata": {},
   "outputs": [],
   "source": [
    "v_36cell = [\n",
    "    (1, 0, 0, 0),\n",
    "    (0, 0, 1, 0),\n",
    "    (0, -1, 0, 0),\n",
    "    (0, 0, 0, -1),\n",
    "    (1, 1, 0, 0),\n",
    "    (-1, -1, 0, 0),\n",
    "    (0, 1, 0, 0),\n",
    "    (-1, 0, 0, 0),\n",
    "    (0, 0, 1, 1),\n",
    "    (0, 0, 0, 1),\n",
    "    (0, 0, -1, -1),\n",
    "    (0, 0, -1, 0)\n",
    "]"
   ]
  },
  {
   "cell_type": "code",
   "execution_count": 12,
   "id": "4109c1d3",
   "metadata": {},
   "outputs": [
    {
     "name": "stdout",
     "output_type": "stream",
     "text": [
      "[[1, 3], [9, 3], [9, 6], [10, 3], [10, 6], [3, 12], [12, 6], [11, 3], [11, 6], [6, 8], [2, 3], [3, 4], [3, 6], [2, 6], [4, 6], [11, 8], [12, 8], [4, 8], [10, 8], [2, 8], [9, 8], [7, 8], [9, 7], [2, 7], [10, 7], [4, 7], [12, 7], [11, 7], [5, 7], [11, 12], [11, 4], [1, 11], [11, 5], [10, 12], [1, 12], [12, 5], [2, 4], [1, 4], [4, 5], [9, 10], [1, 10], [10, 5], [9, 2], [1, 2], [2, 5], [1, 9], [9, 5], [1, 5]]\n"
     ]
    }
   ],
   "source": [
    "edges = [[0, 2], [8, 2], [8, 5], [9, 2], [9, 5], [2, 11], [11, 5], [10, 2], [10, 5], [5, 7], [1, 2], [2, 3], [2, 5], [1, 5], [3, 5], [10, 7], [11, 7], [3, 7], [9, 7], [1, 7], [8, 7], [6, 7], [8, 6], [1, 6], [9, 6], [3, 6], [11, 6], [10, 6], [4, 6], [10, 11], [10, 3], [0, 10], [10, 4], [9, 11], [0, 11], [11, 4], [1, 3], [0, 3], [3, 4], [8, 9], [0, 9], [9, 4], [8, 1], [0, 1], [1, 4], [0, 8], [8, 4], [0, 4]]\n",
    "edges = [[i+1 for i in e] for e in edges]\n",
    "print(edges)"
   ]
  },
  {
   "cell_type": "code",
   "execution_count": null,
   "id": "0af2e000",
   "metadata": {},
   "outputs": [],
   "source": [
    "EdgeList = list[np.ndarray] # list of 2xdim arrays\n",
    "\n",
    "def get_cuts(N: Net) -> EdgeList:\n",
    "    return np.concatenate([N.tope.meta[2][i][\"cuts\"] for i in range(len(N.facets))])\n",
    "        \n",
    "        \n",
    "def get_edges(N: Net) -> EdgeList: # apply to unfolded Net\n",
    "    edges = []\n",
    "    for i, vertices in N.facets.items():\n",
    "        facet_template = N.tope.get_face(i) # has correct indices\n",
    "        edges.extend((vertices[list(e)] for e in facet_template.faces[1]))\n",
    "    return edges\n",
    "\n",
    "import itertools\n",
    "\n",
    "Net2d = None # new format of Net\n",
    "\n",
    "def iter_edges(N: Net2d) -> Iterable[np.ndarray[2,2]]: # apply to unfolded 2d Net\n",
    "    return N.iter_faces_as_vertices(dim=1)\n",
    "\n",
    "FacetLabels = list[tuple[str, np.ndarray]] # label, position\n",
    "\n",
    "def get_facet_labels(N: Net) -> FacetLabels:\n",
    "    labels = []\n",
    "    for i, vertices in N.facets.items():\n",
    "        labels.append((N.tope.meta[N.tope.dim-1][i][\"index\"], vertices.mean(axis=0)))\n",
    "    return labels\n",
    "\n",
    "def iter_facet_labels(N: Net2d, key: str) -> Iterable[str]:\n",
    "    return zip(N.iter_meta(dim=2, key=\"index\"), map(N.cells.values(), lambda x: x.vertices.mean(axis=0)))"
   ]
  },
  {
   "cell_type": "code",
   "execution_count": null,
   "id": "c1bec6bd",
   "metadata": {},
   "outputs": [],
   "source": [
    "import matplotlib.pyplot as plt\n",
    "from matplotlib.collections import LineCollection # container for line segments\n",
    "from matplotlib.text import Text, Annotation\n",
    "import matplotlib.cm as cm # colour mappings\n",
    "import matplotlib as mpl"
   ]
  },
  {
   "cell_type": "code",
   "execution_count": null,
   "id": "4fed4eee",
   "metadata": {},
   "outputs": [],
   "source": [
    "def get_net_for_facet(P: Tope, i: int, keys=[]) -> Net:\n",
    "    F = P.get_facet(i, meta_keys=keys)\n",
    "    G = get_facet_graph(F)\n",
    "    T = G.get_spanning_tree()\n",
    "    N = Net(F, T).unfold_with_meta(meta_keys=keys).in_own_span(meta_keys=keys)\n",
    "    return N"
   ]
  },
  {
   "cell_type": "code",
   "execution_count": null,
   "id": "7ca95c5f",
   "metadata": {},
   "outputs": [],
   "source": [
    "MARGIN_FACTOR = 0.05\n",
    "\n",
    "from tope.plot import bounding_bbox, plot_artists_in_view\n",
    "\n",
    "def plot_nets(\n",
    "    P: Tope, \n",
    "    name: str = \"P\", \n",
    "    margin: float = MARGIN_FACTOR, \n",
    "    dpi: int = 300, \n",
    "    force=False, \n",
    "    fmt=\"svg\",\n",
    "    label_config: dict = {\"fontsize\": 2, \"ha\": \"center\", \"va\": \"center\"},\n",
    "    title_config: dict = {\"fontsize\": 8, \"pad\": -14},\n",
    "    hatch = False,\n",
    "    label = True\n",
    "):    \n",
    "    nfacets = len(P.faces[P.dim-1])\n",
    "    nets = [get_net_for_facet(P, i, keys=[\"cuts\"]) for i in range(nfacets)] if hatch \\\n",
    "        else [get_net_for_facet(P, i) for i in range(nfacets)]\n",
    "    \n",
    "    ## compute common bounding box\n",
    "    \n",
    "    bbox = bounding_bbox(*(cell for N in nets for cell in N.facets.values()))\n",
    "    \n",
    "    #xlim, ylim = compute_bounding_box(*(cell for N in nets for cell in N.facets.values()), margin_factor=margin_factor)\n",
    "    \n",
    "    ## generate images\n",
    "    figs = []\n",
    "    for i, N in enumerate(nets):\n",
    "        artists = [LineCollection(get_edges(N), colors=\"grey\", linewidths=0.2)]\n",
    "        \n",
    "        if hatch: artists.append(\n",
    "            LineCollection(get_cuts(N), colors=\"lightgrey\", linewidths=0.05)\n",
    "        )\n",
    "            \n",
    "        if label: artists.extend(\n",
    "            Text(*pos, text=str(l), **label_config) for l, pos in get_facet_labels(N)\n",
    "        )\n",
    "        \n",
    "        # draw the actual picture\n",
    "        fig, ax = plot_artists_in_view(*artists, bbox = bbox, margin = margin)\n",
    "        \n",
    "        facet_name = f\"{name}-facet-{i}\"\n",
    "        # title with \"default\" positioning\n",
    "        ax.set_title(facet_name, **title_config)\n",
    "                \n",
    "        # store and next()\n",
    "        figs.append((facet_name, fig))\n",
    "    \n",
    "    return figs"
   ]
  },
  {
   "cell_type": "code",
   "execution_count": null,
   "id": "393000e9",
   "metadata": {},
   "outputs": [],
   "source": [
    "def get_hyperplanes(*planes, spacing=0.02, r=5):\n",
    "    return [H for L in planes for H in [(L, i*L) for i in np.arange(-r, r, spacing)]]\n",
    "\n",
    "hyperplanes = get_hyperplanes(\n",
    "    *(rng.integers(-5,5,size=4) for _ in range(4)), spacing=0.02\n",
    "#    *(rng.normal(size=4) for _ in range(4))\n",
    "#    np.array([1,0,0,0]), np.array([0,1,0,0]), np.array([0,0,1,0]), np.array([0,0,0,1])\n",
    ")"
   ]
  },
  {
   "cell_type": "code",
   "execution_count": null,
   "id": "c8f85a81",
   "metadata": {},
   "outputs": [],
   "source": [
    "P = Tope.from_vertices(v_36cell)\n",
    "P.save_index()\n",
    "#P.cut_2faces_with_hyperplanes(hyperplanes)\n",
    "print(\"Decorations calculated. Unfolding...\")\n",
    "nets = plot_nets(P)\n",
    "\n",
    "print(\"Got the nets!\")\n",
    "\n",
    "from tope.plot import save_figs_to_dir, save_figs_to_zip\n",
    "save_figs_to_zip(nets, path=\"tmp/36-cell-test.zip\", fmt=\"png\", dpi=600)\n",
    "#save_nets(P, \"figs/4902603\", force=True, fmt=\"svg\")"
   ]
  },
  {
   "cell_type": "code",
   "execution_count": null,
   "id": "48cdfdbe",
   "metadata": {
    "scrolled": true
   },
   "outputs": [],
   "source": [
    "P = Tope.from_vertices(v_24cell)\n",
    "P.save_index() # now must do this before passing to sub-topes\n",
    "P.cut_2faces_with_hyperplanes(hyperplanes) # and this\n",
    "save_nets(P, \"figs/24cell\", force=True)"
   ]
  },
  {
   "cell_type": "code",
   "execution_count": null,
   "id": "1ba8353f",
   "metadata": {
    "scrolled": true
   },
   "outputs": [],
   "source": [
    "P = Tope.from_vertices(polys[\"2070\"])\n",
    "P.save_index() # now must do this before passing to sub-topes\n",
    "save_nets(P, \"figs/2070\", force=True)"
   ]
  },
  {
   "cell_type": "code",
   "execution_count": null,
   "id": "72c0c86d",
   "metadata": {},
   "outputs": [],
   "source": [
    "#save_nets(Tope.from_vertices(polys[\"2070\"]), \"figs/2070\", force=True)"
   ]
  },
  {
   "cell_type": "code",
   "execution_count": null,
   "id": "5d5048af",
   "metadata": {},
   "outputs": [],
   "source": [
    "for name, poly in polys.items():\n",
    "    pass # TODO. fix this\n",
    "    #save_nets(Tope.from_vertices(poly), f\"figs/{name}\", force=True)"
   ]
  },
  {
   "cell_type": "code",
   "execution_count": null,
   "id": "e9dad78b",
   "metadata": {},
   "outputs": [],
   "source": [
    "with open(\"../polys1.json\") as fd: data = json.load(fd)\n",
    "v_bigboy = data[\"4902603\"]"
   ]
  }
 ],
 "metadata": {
  "kernelspec": {
   "display_name": "Python 3",
   "language": "python",
   "name": "python3"
  },
  "language_info": {
   "codemirror_mode": {
    "name": "ipython",
    "version": 3
   },
   "file_extension": ".py",
   "mimetype": "text/x-python",
   "name": "python",
   "nbconvert_exporter": "python",
   "pygments_lexer": "ipython3",
   "version": "3.9.4"
  }
 },
 "nbformat": 4,
 "nbformat_minor": 5
}
