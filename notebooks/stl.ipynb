{
 "cells": [
  {
   "cell_type": "code",
   "execution_count": null,
   "id": "6927ede6",
   "metadata": {},
   "outputs": [],
   "source": [
    "%autosave 0\n",
    "import sys\n",
    "!{sys.executable} -m pip install .."
   ]
  },
  {
   "cell_type": "code",
   "execution_count": null,
   "id": "a3a6dc57",
   "metadata": {},
   "outputs": [],
   "source": [
    "from tope import Tope\n",
    "from tope.net import *\n",
    "from tope.orth import *\n",
    "from tope.graph import Graph\n",
    "from tope.plot import plot_artists_in_view\n",
    "\n",
    "import numpy as np\n",
    "\n",
    "import matplotlib as mpl\n",
    "import matplotlib.pyplot as plt\n",
    "\n",
    "import json, os\n",
    "\n",
    "# import prepackaged data\n",
    "with open(\"../data/polys2.json\") as fd: \n",
    "    polys = json.load(fd)\n",
    "    \n",
    "logger.remove()"
   ]
  },
  {
   "cell_type": "code",
   "execution_count": null,
   "id": "b17af618",
   "metadata": {},
   "outputs": [],
   "source": [
    "def perspective_project(v: np.ndarray, offset: float):\n",
    "    \"\"\"\n",
    "    Convention: project into hyperplane (v[0]=0) translated by offset.\n",
    "    - v: float[M,N]\n",
    "    - offset: float\n",
    "    \"\"\"\n",
    "    return v[:,...,1:] / (v[:,...,:1] - offset)\n",
    "\n",
    "FALLBACK_RNG = np.random.default_rng()\n",
    "\n",
    "def random_orth(N: int, rng = FALLBACK_RNG) -> np.ndarray:\n",
    "    \"\"\"\n",
    "    Uniform random element of O(N) with positive diagonal entries sampled using Haar measure.\n",
    "    \"\"\"\n",
    "    Q,R = np.linalg.qr(rng.normal(size=(N,N))) # project GL(N) -> O(N)\n",
    "    return Q @ np.diag(np.sign(np.diag(R)))    # fix signs"
   ]
  },
  {
   "cell_type": "code",
   "execution_count": null,
   "id": "3e4a9cb0",
   "metadata": {},
   "outputs": [],
   "source": [
    "mpl.colormaps.get(\"YlOrRd\")"
   ]
  },
  {
   "cell_type": "code",
   "execution_count": null,
   "id": "8dd5a9e1",
   "metadata": {},
   "outputs": [],
   "source": [
    "def create_lc(edges, color_map = \"Set2\"):\n",
    "    segments = []\n",
    "    colors = []\n",
    "    cmap = mpl.colormaps.get(color_map)\n",
    "    for i, edge in enumerate(edges):\n",
    "        segments.append(edge)\n",
    "        colors.append(cmap(0.25+ 0.5*i/len(edges)))\n",
    "    return mpl.collections.LineCollection(segments, color=colors)"
   ]
  },
  {
   "cell_type": "markdown",
   "id": "97d3b30f",
   "metadata": {},
   "source": [
    "# Parameters"
   ]
  },
  {
   "cell_type": "code",
   "execution_count": null,
   "id": "18420be5",
   "metadata": {},
   "outputs": [],
   "source": [
    "POLYTOPE     = \"24-cell\"\n",
    "FIG_FILENAME = \"nets-unfolded.png\"\n",
    "STL_FILENAME = \"thing24.stl\"\n",
    "COLOR_MAP    = \"YlOrRd\""
   ]
  },
  {
   "cell_type": "markdown",
   "id": "18146a1a",
   "metadata": {},
   "source": [
    "## Randomization"
   ]
  },
  {
   "cell_type": "code",
   "execution_count": null,
   "id": "09b6a5db",
   "metadata": {},
   "outputs": [],
   "source": [
    "Q = random_orth(3)"
   ]
  },
  {
   "cell_type": "markdown",
   "id": "c53f8fe9",
   "metadata": {},
   "source": [
    "# Actually do the stuff"
   ]
  },
  {
   "cell_type": "code",
   "execution_count": null,
   "id": "749bb219",
   "metadata": {
    "scrolled": true
   },
   "outputs": [],
   "source": [
    "P = Tope.from_vertices(polys[POLYTOPE])\n",
    "T = P.facet_graph().width_first_spanning_tree()\n",
    "N = Net(P, T).unfold().in_own_span()"
   ]
  },
  {
   "cell_type": "code",
   "execution_count": null,
   "id": "d8442faf",
   "metadata": {},
   "outputs": [],
   "source": [
    "fig, ax = plt.subplots(dpi=300)\n",
    "\n",
    "cell_edges = [np.stack([F.vertices[sorted(e)] for e in F.iter_faces(1)]) for F in N.facets.values()]\n",
    "cmaps = list(mpl.colormaps)\n",
    "\n",
    "for n, cell in enumerate(cell_edges):\n",
    "    edges = perspective_project(cell @ Q, 10)\n",
    "    lc = create_lc(edges, color_map = cmaps[n%len(cmaps)])\n",
    "    ax.add_collection(lc)\n",
    "#    for ax in axs[:n+1]:\n",
    "#        lc = create_lc(edges, color_map = cmaps[n%len(cmaps)])\n",
    "#        ax.add_collection(lc)\n",
    "        \n",
    "#bbox = axs[0].dataLim\n",
    "        \n",
    "#for ax in axs:\n",
    "#    ax.dataLim = bbox\n",
    "ax.set_aspect(\"equal\")\n",
    "ax.autoscale()\n",
    "\n",
    "fig.set_size_inches(20,20)\n",
    "fig.savefig(\"nets-builder1.png\")"
   ]
  },
  {
   "cell_type": "markdown",
   "id": "80c3e1b7",
   "metadata": {},
   "source": [
    "# Make STL"
   ]
  },
  {
   "cell_type": "code",
   "execution_count": null,
   "id": "cf836d15",
   "metadata": {},
   "outputs": [],
   "source": [
    "from stl import mesh\n",
    "\n",
    "def create_stl(N: Net) -> mesh.Mesh:\n",
    "    triangles = [face for face in facet.iter_faces_as_vertices(2) for facet in N.facets.values()]\n",
    "    model = mesh.Mesh(np.zeros(len(triangles), dtype=stl.mesh.Mesh.dtype))\n",
    "    model.vectors[:,:,:] = faces\n",
    "    return model"
   ]
  },
  {
   "cell_type": "code",
   "execution_count": null,
   "id": "d41962a4",
   "metadata": {},
   "outputs": [],
   "source": [
    "thing = create_stl(N)\n",
    "thing.save(STL_FILENAME)"
   ]
  },
  {
   "cell_type": "code",
   "execution_count": null,
   "id": "23149ab1",
   "metadata": {},
   "outputs": [],
   "source": []
  }
 ],
 "metadata": {
  "kernelspec": {
   "display_name": "Python 3 (ipykernel)",
   "language": "python",
   "name": "python3"
  },
  "language_info": {
   "codemirror_mode": {
    "name": "ipython",
    "version": 3
   },
   "file_extension": ".py",
   "mimetype": "text/x-python",
   "name": "python",
   "nbconvert_exporter": "python",
   "pygments_lexer": "ipython3",
   "version": "3.9.4"
  }
 },
 "nbformat": 4,
 "nbformat_minor": 5
}
