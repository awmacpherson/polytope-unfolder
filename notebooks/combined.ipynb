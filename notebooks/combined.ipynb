{
 "cells": [
  {
   "cell_type": "markdown",
   "id": "af7ba762",
   "metadata": {},
   "source": [
    "# Table of Contents\n",
    "\n",
    "0. Preface\n",
    "  - Instructions\n",
    "  - Installer\n",
    "  - Imports\n",
    "  - Colour scheme preview\n",
    "1. 4D \n",
    "  - Animated rotating wireframe image (projected)\n",
    "  - Superposed animation frames (projected)\n",
    "2. 3D Net\n",
    "  - Wireframe image (projected)\n",
    "  - Solid cell-shaded image (projected)\n",
    "  - STL\n",
    "3. 2D facet nets\n",
    "  - Plain\n",
    "  - Solid colour (1 per facet) (WIP)"
   ]
  },
  {
   "cell_type": "markdown",
   "id": "8f6f7d40",
   "metadata": {},
   "source": [
    "## Instructions\n",
    "\n",
    "1. Run the initialisation cells (down to **Colour scheme preview**) exactly once, before doing anything else.\n",
    "2. In the **Colour scheme preview** section, run the first cell to display a list of colour schemes. Change the value of `PREVIEW_COLOR_SCHEME` in the second cell and run it to get a preview of that colour scheme.\n",
    "3. The first half of the **Parameters** cell is where you can set all the options for the output. They should be more or less self explanatory; more will be added later. Note that strange things can happen with the projection is `PERSPECTIVE_DISTANCE` is set too low.\n",
    "4. Run the **Randomization** cell each time you want to generate a new viewing angle.\n",
    "5. In the **Output area**, each type of output has a *preview pane* cell and a *save files* cell. Run the preview pane cell and adjust **Parameters** until you find a view you like, then run the save files cell. \n",
    "6. Files are saved to `SAVE_DIRECTORY` (which is `./output` by default). You can add a custom suffix to the filename by setting the `TAG` parameter. If `TAG` is set to the empty string, i.e. `TAG = \"\"`, a 4 character suffix is generated automatically. This suffix automatically changes whenver you change the parameters or regenerate the viewing angle.\n",
    "7. Note that it is not possible to preview animations or STL files. For animations, ffmpeg must be installed (this should happen automatically if you are running the notebook on mybinder.org)."
   ]
  },
  {
   "cell_type": "code",
   "execution_count": 1,
   "id": "5d9ff749",
   "metadata": {},
   "outputs": [],
   "source": [
    "# Installer\n",
    "import sys\n",
    "\n",
    "# IMPORTS\n",
    "try:\n",
    "    from tope import Tope\n",
    "except ImportError:\n",
    "    !{sys.executable} -m pip install ..\n",
    "    from tope import Tope\n",
    "from tope.net import *\n",
    "from tope.orth import *\n",
    "from tope.graph import Graph\n",
    "from tope.plot import *\n",
    "\n",
    "import numpy as np\n",
    "\n",
    "import matplotlib as mpl\n",
    "import matplotlib.pyplot as plt\n",
    "\n",
    "import json, os\n",
    "import itertools\n",
    "\n",
    "# import prepackaged data\n",
    "with open(\"../data/polys2.json\") as fd: \n",
    "    polys = json.load(fd)\n",
    "    \n",
    "# and the rest\n",
    "import gzip\n",
    "with gzip.open(\"../data/474polys.json.gz\", \"rt\") as fd:\n",
    "    polys.update(json.load(fd))\n",
    "\n",
    "with gzip.open(\"../data/d30.json.gz\", \"rt\") as fd:\n",
    "    d30 = json.load(fd)\n",
    "polys.update({f\"d30-{record['ID']}\": record[\"Vertices\"] for record in d30})\n",
    "\n",
    "logger.remove()"
   ]
  },
  {
   "cell_type": "code",
   "execution_count": 2,
   "id": "8dd5a9e1",
   "metadata": {},
   "outputs": [],
   "source": [
    "def create_lc(edges, color_map = \"Set2\", color_range=(0.25,0.75), lw=1):\n",
    "    segments = []\n",
    "    colors = []\n",
    "    cmap = mpl.colormaps.get(color_map)\n",
    "    for i, edge in enumerate(edges):\n",
    "        segments.append(edge)\n",
    "        crange_start = color_range[0]\n",
    "        crange_step = (color_range[1]-color_range[0]) / len(edges)\n",
    "        colors.append(cmap(crange_start + i*crange_step))\n",
    "    return mpl.collections.LineCollection(segments, color=colors, linewidth=lw)\n",
    "\n",
    "def get_wireframe(P: Tope, rotator, perspective_distance=10):\n",
    "    rotate  = lambda e: e @ rotator\n",
    "    project = lambda e: perspective_project(perspective_project(e, perspective_distance), perspective_distance)\n",
    "    return list(map(project, map(rotate, P.iter_faces_as_arrays(dim=1))))\n",
    "\n",
    "def generate_rotators(N: int, num_steps: int = 10) -> np.ndarray:\n",
    "    \"\"\"\n",
    "    Generate num_steps evenly spaced rotations of stacked vectors.\n",
    "    \"\"\"\n",
    "    return rotator_nd(np.arange(0, 2*np.pi, 2*np.pi / num_steps), N)"
   ]
  },
  {
   "cell_type": "markdown",
   "id": "cf831846",
   "metadata": {},
   "source": [
    "## Polytope ID listing"
   ]
  },
  {
   "cell_type": "code",
   "execution_count": 3,
   "id": "0d43da7e",
   "metadata": {},
   "outputs": [
    {
     "name": "stdout",
     "output_type": "stream",
     "text": [
      "Available polytopes:\n",
      "--------------------\n",
      "2070          5378          5572          11471         12181         15258         17986         18676         \n",
      "29828         30418         24-cell       36-cell       123456        1123456       2123456       3123456       \n",
      "4123456       5123456       6123456       7123456       8123456       9123456       10123456      11123456      \n",
      "12123456      13123456      14123456      15123456      16123456      17123456      18123456      19123456      \n",
      "20123456      21123456      22123456      23123456      24123456      25123456      26123456      27123456      \n",
      "28123456      29123456      30123456      31123456      32123456      33123456      34123456      35123456      \n",
      "36123456      37123456      38123456      39123456      40123456      41123456      42123456      43123456      \n",
      "44123456      45123456      46123456      47123456      48123456      49123456      50123456      51123456      \n",
      "52123456      53123456      54123456      55123456      56123456      57123456      58123456      59123456      \n",
      "60123456      61123456      62123456      63123456      64123456      65123456      66123456      67123456      \n",
      "68123456      69123456      70123456      71123456      72123456      73123456      74123456      75123456      \n",
      "76123456      77123456      78123456      79123456      80123456      81123456      82123456      83123456      \n",
      "84123456      85123456      86123456      87123456      88123456      89123456      90123456      91123456      \n",
      "92123456      93123456      94123456      95123456      96123456      97123456      98123456      99123456      \n",
      "100123456     101123456     102123456     103123456     104123456     105123456     106123456     107123456     \n",
      "108123456     109123456     110123456     111123456     112123456     113123456     114123456     115123456     \n",
      "116123456     117123456     118123456     119123456     120123456     121123456     122123456     123123456     \n",
      "124123456     125123456     126123456     127123456     128123456     129123456     130123456     131123456     \n",
      "132123456     133123456     134123456     135123456     136123456     137123456     138123456     139123456     \n",
      "140123456     141123456     142123456     143123456     144123456     145123456     146123456     147123456     \n",
      "148123456     149123456     150123456     151123456     152123456     153123456     154123456     155123456     \n",
      "156123456     157123456     158123456     159123456     160123456     161123456     162123456     163123456     \n",
      "164123456     165123456     166123456     167123456     168123456     169123456     170123456     171123456     \n",
      "172123456     173123456     174123456     175123456     176123456     177123456     178123456     179123456     \n",
      "180123456     181123456     182123456     183123456     184123456     185123456     186123456     187123456     \n",
      "188123456     189123456     190123456     191123456     192123456     193123456     194123456     195123456     \n",
      "196123456     197123456     198123456     199123456     200123456     201123456     202123456     203123456     \n",
      "204123456     205123456     206123456     207123456     208123456     209123456     210123456     211123456     \n",
      "212123456     213123456     214123456     215123456     216123456     217123456     218123456     219123456     \n",
      "220123456     221123456     222123456     223123456     224123456     225123456     226123456     227123456     \n",
      "228123456     229123456     230123456     231123456     232123456     233123456     234123456     235123456     \n",
      "236123456     237123456     238123456     239123456     240123456     241123456     242123456     243123456     \n",
      "244123456     245123456     246123456     247123456     248123456     249123456     250123456     251123456     \n",
      "252123456     253123456     254123456     255123456     256123456     257123456     258123456     259123456     \n",
      "260123456     261123456     262123456     263123456     264123456     265123456     266123456     267123456     \n",
      "268123456     269123456     270123456     271123456     272123456     273123456     274123456     275123456     \n",
      "276123456     277123456     278123456     279123456     280123456     281123456     282123456     283123456     \n",
      "284123456     285123456     286123456     287123456     288123456     289123456     290123456     291123456     \n",
      "292123456     293123456     294123456     295123456     296123456     297123456     298123456     299123456     \n",
      "300123456     301123456     302123456     303123456     304123456     305123456     306123456     307123456     \n",
      "308123456     309123456     310123456     311123456     312123456     313123456     314123456     315123456     \n",
      "316123456     317123456     318123456     319123456     320123456     321123456     322123456     323123456     \n",
      "324123456     325123456     326123456     327123456     328123456     329123456     330123456     331123456     \n",
      "332123456     333123456     334123456     335123456     336123456     337123456     338123456     339123456     \n",
      "340123456     341123456     342123456     343123456     344123456     345123456     346123456     347123456     \n",
      "348123456     349123456     350123456     351123456     352123456     353123456     354123456     355123456     \n",
      "356123456     357123456     358123456     359123456     360123456     361123456     362123456     363123456     \n",
      "364123456     365123456     366123456     367123456     368123456     369123456     370123456     371123456     \n",
      "372123456     373123456     374123456     375123456     376123456     377123456     378123456     379123456     \n",
      "380123456     381123456     382123456     383123456     384123456     385123456     386123456     387123456     \n",
      "388123456     389123456     390123456     391123456     392123456     393123456     394123456     395123456     \n",
      "396123456     397123456     398123456     399123456     400123456     401123456     402123456     403123456     \n",
      "404123456     405123456     406123456     407123456     408123456     409123456     410123456     411123456     \n",
      "412123456     413123456     414123456     415123456     416123456     417123456     418123456     419123456     \n",
      "420123456     421123456     422123456     423123456     424123456     425123456     426123456     427123456     \n",
      "428123456     429123456     430123456     431123456     432123456     433123456     434123456     435123456     \n",
      "436123456     437123456     438123456     439123456     440123456     441123456     442123456     443123456     \n",
      "444123456     445123456     446123456     447123456     448123456     449123456     450123456     451123456     \n",
      "452123456     453123456     454123456     455123456     456123456     457123456     458123456     459123456     \n",
      "460123456     461123456     462123456     463123456     464123456     465123456     466123456     467123456     \n",
      "468123456     469123456     470123456     471123456     472123456     473123456     d30-15593     d30-72293     \n",
      "d30-187739    d30-199039    d30-202677    d30-204051    d30-217953    d30-481027    d30-502999    d30-504687    \n",
      "d30-538957    d30-561963    d30-1157015   d30-1157087   d30-1204225   d30-1206249   d30-1206395   d30-1277701   \n",
      "d30-1347393   d30-2383581   d30-2470251   d30-2471263   d30-2471265   d30-2471313   d30-2512359   d30-2512417   \n",
      "d30-2514287   d30-2514531   d30-2641675   d30-2771295   d30-3122231   d30-4695383   d30-4830547   d30-4830549   \n",
      "d30-4830551   d30-4830553   d30-4830565   d30-4830581   d30-4830633   d30-4903539   d30-4904971   d30-5044707   \n",
      "d30-5055451   d30-5055761   d30-5131055   d30-5273197   d30-5273203   d30-5503029   d30-5730871   d30-5730875   \n",
      "d30-5795855   d30-8444045   d30-8444231   d30-8445293   d30-8655255   d30-8655257   d30-8655261   d30-8655311   \n",
      "d30-8655315   d30-8655349   d30-8991973   d30-8993841   d30-9004421   d30-9122659   d30-9364793   d30-9716181   \n",
      "d30-10069775  d30-10078103  d30-10078105  d30-10078107  d30-10078779  d30-13109094  d30-13914964  d30-14084372  \n",
      "d30-14404670  d30-14404672  d30-14404674  d30-14404676  d30-14900226  d30-14901422  d30-14902648  d30-14907590  \n",
      "d30-15096480  d30-15096490  d30-15437652  d30-15982490  d30-16489098  d30-16489138  d30-16494412  d30-16494516  \n",
      "d30-16494652  d30-16494738  d30-16650496  d30-22047315  d30-22477035  d30-23185127  d30-23436889  d30-23442423  \n",
      "d30-24676961  d30-24677177  d30-25400735  d30-25400815  d30-25403875  d30-25403897  d30-26038303  d30-26617665  \n",
      "d30-27649111  d30-31561151  d30-34144373  d30-34166549  d30-34499949  d30-34503329  d30-35170667  d30-36153597  \n",
      "d30-36156705  d30-36461035  d30-36463333  d30-37063173  d30-37063211  d30-37074865  d30-37074875  d30-37074899  \n",
      "d30-37076495  d30-37915361  d30-49348423  d30-49349613  d30-50964255  d30-51718817  d30-51725501  d30-52061037  \n",
      "d30-52061047  d30-56314611  d30-66491936  d30-66491974  d30-69337630  d30-69745094  d30-70909794  d30-86361565  \n",
      "d30-86363053  d30-86363187  d30-86363435  d30-86363451  d30-86363461  d30-86951213  d30-90095119  d30-90100771  \n",
      "d30-116454117 d30-138507365 \n",
      "\n",
      "Note: all numbers less than 474000000 and ending in 123456 are available.\n",
      "Entries whose ID has the prefix 'd30-' have at least 30 facets.\n"
     ]
    }
   ],
   "source": [
    "print(\"Available polytopes:\")\n",
    "print(\"--------------------\")\n",
    "for i, cm in enumerate(polys): \n",
    "    print(f\"{cm:14}\", end=\"\")\n",
    "    if i%8==7: print()\n",
    "print()\n",
    "print()\n",
    "print(\"Note: all numbers less than 474000000 and ending in 123456 are available.\")\n",
    "print(\"Entries whose ID has the prefix 'd30-' have at least 30 facets.\")"
   ]
  },
  {
   "cell_type": "markdown",
   "id": "97d3b30f",
   "metadata": {},
   "source": [
    "# Colour scheme preview"
   ]
  },
  {
   "cell_type": "code",
   "execution_count": 14,
   "id": "0ee46839",
   "metadata": {},
   "outputs": [
    {
     "name": "stdout",
     "output_type": "stream",
     "text": [
      "Available named colors:\n",
      "-----------------------\n",
      "aliceblue               antiquewhite            aqua                    aquamarine              \n",
      "azure                   beige                   bisque                  black                   blanchedalmond          \n",
      "blue                    blueviolet              brown                   burlywood               cadetblue               \n",
      "chartreuse              chocolate               coral                   cornflowerblue          cornsilk                \n",
      "crimson                 cyan                    darkblue                darkcyan                darkgoldenrod           \n",
      "darkgray                darkgreen               darkgrey                darkkhaki               darkmagenta             \n",
      "darkolivegreen          darkorange              darkorchid              darkred                 darksalmon              \n",
      "darkseagreen            darkslateblue           darkslategray           darkslategrey           darkturquoise           \n",
      "darkviolet              deeppink                deepskyblue             dimgray                 dimgrey                 \n",
      "dodgerblue              firebrick               floralwhite             forestgreen             fuchsia                 \n",
      "gainsboro               ghostwhite              gold                    goldenrod               gray                    \n",
      "green                   greenyellow             grey                    honeydew                hotpink                 \n",
      "indianred               indigo                  ivory                   khaki                   lavender                \n",
      "lavenderblush           lawngreen               lemonchiffon            lightblue               lightcoral              \n",
      "lightcyan               lightgoldenrodyellow    lightgray               lightgreen              lightgrey               \n",
      "lightpink               lightsalmon             lightseagreen           lightskyblue            lightslategray          \n",
      "lightslategrey          lightsteelblue          lightyellow             lime                    limegreen               \n",
      "linen                   magenta                 maroon                  mediumaquamarine        mediumblue              \n",
      "mediumorchid            mediumpurple            mediumseagreen          mediumslateblue         mediumspringgreen       \n",
      "mediumturquoise         mediumvioletred         midnightblue            mintcream               mistyrose               \n",
      "moccasin                navajowhite             navy                    oldlace                 olive                   \n",
      "olivedrab               orange                  orangered               orchid                  palegoldenrod           \n",
      "palegreen               paleturquoise           palevioletred           papayawhip              peachpuff               \n",
      "peru                    pink                    plum                    powderblue              purple                  \n",
      "rebeccapurple           red                     rosybrown               royalblue               saddlebrown             \n",
      "salmon                  sandybrown              seagreen                seashell                sienna                  \n",
      "silver                  skyblue                 slateblue               slategray               slategrey               \n",
      "snow                    springgreen             steelblue               tan                     teal                    \n",
      "thistle                 tomato                  turquoise               violet                  wheat                   \n",
      "white                   whitesmoke              yellow                  yellowgreen             tab:blue                \n",
      "tab:orange              tab:green               tab:red                 tab:purple              tab:brown               \n",
      "tab:pink                tab:gray                tab:olive               tab:cyan                tab:grey                \n",
      "b                       g                       r                       c                       m                       \n",
      "y                       k                       w                       "
     ]
    }
   ],
   "source": [
    "print(\"Available named colors:\")\n",
    "print(\"-----------------------\")\n",
    "count = 0\n",
    "for cm in mpl.colors.get_named_colors_mapping(): \n",
    "    if cm.startswith(\"xkcd:\"): continue\n",
    "    print(f\"{cm:24}\", end=\"\")\n",
    "    count += 1\n",
    "    if count%5==4: print()"
   ]
  },
  {
   "cell_type": "code",
   "execution_count": 11,
   "id": "8d7a89ec",
   "metadata": {},
   "outputs": [
    {
     "name": "stdout",
     "output_type": "stream",
     "text": [
      "Available color schemes:\n",
      "------------------------\n",
      "aliceblue           antiquewhite        aqua                aquamarine          azure               \n",
      "beige               bisque              black               blanchedalmond      blue                blueviolet          \n",
      "brown               burlywood           cadetblue           chartreuse          chocolate           coral               \n",
      "cornflowerblue      cornsilk            crimson             cyan                darkblue            darkcyan            \n",
      "darkgoldenrod       darkgray            darkgreen           darkgrey            darkkhaki           darkmagenta         \n",
      "darkolivegreen      darkorange          darkorchid          darkred             darksalmon          darkseagreen        \n",
      "darkslateblue       darkslategray       darkslategrey       darkturquoise       darkviolet          deeppink            \n",
      "deepskyblue         dimgray             dimgrey             dodgerblue          firebrick           floralwhite         \n",
      "forestgreen         fuchsia             gainsboro           ghostwhite          gold                goldenrod           \n",
      "gray                green               greenyellow         grey                honeydew            hotpink             \n",
      "indianred           indigo              ivory               khaki               lavender            lavenderblush       \n",
      "lawngreen           lemonchiffon        lightblue           lightcoral          lightcyan           lightgoldenrodyellow\n",
      "lightgray           lightgreen          lightgrey           lightpink           lightsalmon         lightseagreen       \n",
      "lightskyblue        lightslategray      lightslategrey      lightsteelblue      lightyellow         lime                \n",
      "limegreen           linen               magenta             maroon              mediumaquamarine    mediumblue          \n",
      "mediumorchid        mediumpurple        mediumseagreen      mediumslateblue     mediumspringgreen   mediumturquoise     \n",
      "mediumvioletred     midnightblue        mintcream           mistyrose           moccasin            navajowhite         \n",
      "navy                oldlace             olive               olivedrab           orange              orangered           \n",
      "orchid              palegoldenrod       palegreen           paleturquoise       palevioletred       papayawhip          \n",
      "peachpuff           peru                pink                plum                powderblue          purple              \n",
      "rebeccapurple       red                 rosybrown           royalblue           saddlebrown         salmon              \n",
      "sandybrown          seagreen            seashell            sienna              silver              skyblue             \n",
      "slateblue           slategray           slategrey           snow                springgreen         steelblue           \n",
      "tan                 teal                thistle             tomato              turquoise           violet              \n",
      "wheat               white               whitesmoke          yellow              yellowgreen         tab:blue            \n",
      "tab:orange          tab:green           tab:red             tab:purple          tab:brown           tab:pink            \n",
      "tab:gray            tab:olive           tab:cyan            tab:grey            b                   g                   \n",
      "r                   c                   m                   y                   k                   w                   \n",
      "-----------------------\n",
      "Note: b/g/r/c/m/y/k/w are short for blue/green/red/cyan/magenta/yellow/black/white.\n"
     ]
    }
   ],
   "source": [
    "print(\"Available color schemes:\")\n",
    "print(\"------------------------\")\n",
    "count = 0\n",
    "for cm in mpl.colors.get_named_colors_mapping(): \n",
    "    if cm.startswith(\"xkcd:\"): continue\n",
    "    print(f\"{cm:20}\", end=\"\")\n",
    "    count += 1\n",
    "    if count%6==5: print()\n",
    "print(\"-----------------------\")\n",
    "print(\"Note: b/g/r/c/m/y/k/w are short for blue/green/red/cyan/magenta/yellow/black/white.\")"
   ]
  },
  {
   "cell_type": "markdown",
   "id": "5e69a81c",
   "metadata": {},
   "source": [
    "#### Paste one of these strings in between the quotation marks and run this cell (Shift+Enter) to preview a colour scheme!"
   ]
  },
  {
   "cell_type": "code",
   "execution_count": null,
   "id": "ab8a5c4c",
   "metadata": {},
   "outputs": [],
   "source": [
    "PREVIEW_COLOR_SCHEME = \"Spectral\"\n",
    "mpl.colormaps.get(PREVIEW_COLOR_SCHEME)"
   ]
  },
  {
   "cell_type": "markdown",
   "id": "a3912696",
   "metadata": {},
   "source": [
    "# Parameters"
   ]
  },
  {
   "cell_type": "code",
   "execution_count": null,
   "id": "18420be5",
   "metadata": {},
   "outputs": [],
   "source": [
    "POLYTOPE     = \"d30-86363435\"\n",
    "\n",
    "COLOR_SCHEME      = \"Pastel1_r\"\n",
    "COLOR_RANGE_BEGIN = 0.25   # between 0 and 1\n",
    "COLOR_RANGE_END   = 0.75   # between 0 and 1\n",
    "BG_COLOR         = \"darkslategrey\"\n",
    "\n",
    "PERSPECTIVE_DISTANCE = 10\n",
    "\n",
    "DPI           = 300\n",
    "ANIMATION_DPI = 150\n",
    "\n",
    "TAG            = \"\" # put nonempty string here to add custom text to filenames\n",
    "SAVE_DIRECTORY = \"output\"\n",
    "\n",
    "\n",
    "\n",
    "# don't change ##################\n",
    "os.makedirs(SAVE_DIRECTORY, exist_ok=True)\n",
    "\n",
    "DIR_4D = os.path.join(SAVE_DIRECTORY, \"4d-wireframe\")\n",
    "DIR_ANIMATION = os.path.join(DIR_4D, \"animated\")\n",
    "DIR_SMEARED = os.path.join(DIR_4D, \"smeared\")\n",
    "DIR_3D = os.path.join(SAVE_DIRECTORY, \"3d-net\")\n",
    "DIR_STL = os.path.join(DIR_3D, \"stl\")\n",
    "DIR_NET_PROJECTION = os.path.join(DIR_3D, \"projected\")\n",
    "DIR_SHADED_3D_NET = os.path.join(DIR_3D, \"shaded\")\n",
    "DIR_2D = os.path.join(SAVE_DIRECTORY, \"facet-nets\")\n",
    "P = Tope.from_vertices(polys[POLYTOPE])\n",
    "\n",
    "Q3 = Q3 if 'Q3' in globals() else None\n",
    "TAG = TAG or ((id(POLYTOPE)+id(Q3))%65536).to_bytes(2,\"big\").hex()"
   ]
  },
  {
   "cell_type": "markdown",
   "id": "18146a1a",
   "metadata": {},
   "source": [
    "## Randomization"
   ]
  },
  {
   "cell_type": "code",
   "execution_count": null,
   "id": "09b6a5db",
   "metadata": {},
   "outputs": [],
   "source": [
    "Q4a = random_orth(4)\n",
    "Q4b = random_orth(4)\n",
    "Q3 = random_orth(3)\n",
    "I4 = np.eye(4)\n",
    "\n",
    "TAG = TAG or ((id(POLYTOPE)+id(Q3))%65536).to_bytes(2,\"big\").hex()"
   ]
  },
  {
   "cell_type": "markdown",
   "id": "70823f1c",
   "metadata": {},
   "source": [
    "# Output area"
   ]
  },
  {
   "cell_type": "markdown",
   "id": "2f9e1788",
   "metadata": {},
   "source": [
    "# 4D"
   ]
  },
  {
   "cell_type": "code",
   "execution_count": null,
   "id": "929c15df",
   "metadata": {},
   "outputs": [],
   "source": [
    "def get_frames(P, before, after, num_steps=10):\n",
    "    return [create_lc(get_wireframe(P, before @ rotator_nd(theta, 4) @ after)) for theta in np.arange(0, 2*np.pi, 2*np.pi / num_steps)]"
   ]
  },
  {
   "cell_type": "code",
   "execution_count": null,
   "id": "4a477539",
   "metadata": {},
   "outputs": [],
   "source": [
    "def plot_wireframe(\n",
    "    wf: list[np.ndarray], # iterable yielding 2x2 arrays\n",
    "    color_map = \"Pastel1_r\",\n",
    "    color_range = (0.25,0.75),\n",
    "    weight = 1,\n",
    "    bg_color = \"beige\",\n",
    "    border = False,\n",
    "    **kwargs\n",
    "):\n",
    "    \n",
    "    fig, ax = plt.subplots()\n",
    "    \n",
    "    lines = create_lc(\n",
    "        wf,\n",
    "        color_map = color_map,\n",
    "        color_range = color_range,\n",
    "        lw = weight\n",
    "    )\n",
    "\n",
    "    ax.add_collection(lines)\n",
    "    \n",
    "    ax.autoscale()\n",
    "    ax = configure_axes(ax, bg=bg_color, border=border)\n",
    "\n",
    "    return fig, ax"
   ]
  },
  {
   "cell_type": "markdown",
   "id": "60f7c187",
   "metadata": {},
   "source": [
    "### Preview 4d wireframe"
   ]
  },
  {
   "cell_type": "code",
   "execution_count": null,
   "id": "261e9ef7",
   "metadata": {},
   "outputs": [],
   "source": [
    "fig, _ = plot_wireframe(get_wireframe(P, Q4b), border=True, color_map = \"Spectral\", color_range=(0.75,1), bg_color=BG_COLOR)\n",
    "fig.set_size_inches(10,10)"
   ]
  },
  {
   "cell_type": "code",
   "execution_count": null,
   "id": "f51a4c60",
   "metadata": {},
   "outputs": [],
   "source": [
    "frames = get_frames(P, Q4a, Q4b, num_steps=100)\n",
    "bbox = get_tightbbox(*frames) # must compute before adding artists to axes!\n",
    "\n",
    "fig, ax = plt.subplots()\n",
    "for frame in frames:\n",
    "    ax.add_artist(frame)\n",
    "ax.dataLim = bbox\n",
    "ax = configure_axes(ax, BG_COLOR)"
   ]
  },
  {
   "cell_type": "markdown",
   "id": "5784def0",
   "metadata": {},
   "source": [
    "### Save output (smear and animation)\n",
    "Make sure to run the previous cell first!"
   ]
  },
  {
   "cell_type": "code",
   "execution_count": null,
   "id": "9ac13ad6",
   "metadata": {},
   "outputs": [],
   "source": [
    "# save smear\n",
    "os.makedirs(DIR_SMEARED, exist_ok=True)\n",
    "fig.savefig(os.path.join(DIR_SMEARED, f\"{POLYTOPE}-{TAG}.png\"), dpi=DPI) \n",
    "\n",
    "# save animation\n",
    "from matplotlib.animation import ArtistAnimation\n",
    "os.makedirs(DIR_ANIMATION, exist_ok=True)\n",
    "animation = ArtistAnimation(fig, [[frame] for frame in frames], interval=1000/60)\n",
    "animation.save(os.path.join(DIR_ANIMATION, f\"{POLYTOPE}-{TAG}.mp4\"), dpi=ANIMATION_DPI)"
   ]
  },
  {
   "cell_type": "markdown",
   "id": "c53f8fe9",
   "metadata": {},
   "source": [
    "# 3D net"
   ]
  },
  {
   "cell_type": "code",
   "execution_count": null,
   "id": "749bb219",
   "metadata": {
    "scrolled": true
   },
   "outputs": [],
   "source": [
    "N = P.net().unfold().in_own_span()"
   ]
  },
  {
   "cell_type": "markdown",
   "id": "12569685",
   "metadata": {},
   "source": [
    "### Preview"
   ]
  },
  {
   "cell_type": "code",
   "execution_count": null,
   "id": "d8442faf",
   "metadata": {},
   "outputs": [],
   "source": [
    "fig, ax = plt.subplots(dpi=DPI)\n",
    "\n",
    "cell_edges = [np.stack([F.vertices[sorted(e)] for e in F.iter_faces(1)]) for F in N.facets.values()]\n",
    "cmaps = list(mpl.colormaps)\n",
    "\n",
    "for n, cell in enumerate(cell_edges):\n",
    "    edges = perspective_project(cell @ Q3, 10)\n",
    "    lc = create_lc(edges, color_map = cmaps[n%len(cmaps)])\n",
    "    ax.add_collection(lc)\n",
    "\n",
    "ax = configure_axes(ax, bg=BG_COLOR)\n",
    "\n",
    "fig.set_size_inches(20,20)"
   ]
  },
  {
   "cell_type": "markdown",
   "id": "fe82b5e7",
   "metadata": {},
   "source": [
    "### Save output\n",
    "Make sure to run the previous cell first!"
   ]
  },
  {
   "cell_type": "code",
   "execution_count": null,
   "id": "dc653a9b",
   "metadata": {},
   "outputs": [],
   "source": [
    "os.makedirs(DIR_NET_PROJECTION, exist_ok=True)\n",
    "fig.savefig(os.path.join(DIR_NET_PROJECTION, f\"{POLYTOPE}-{TAG}.png\"), dpi=DPI)"
   ]
  },
  {
   "cell_type": "markdown",
   "id": "80c3e1b7",
   "metadata": {},
   "source": [
    "## STL\n",
    "Export as STL"
   ]
  },
  {
   "cell_type": "code",
   "execution_count": null,
   "id": "d41962a4",
   "metadata": {},
   "outputs": [],
   "source": [
    "from tope.stl import create_stl\n",
    "thing = create_stl(*N.facets.values())\n",
    "assert thing.check()\n",
    "\n",
    "os.makedirs(DIR_STL, exist_ok=True)\n",
    "thing.save(os.path.join(DIR_STL, f\"{POLYTOPE}-{TAG}.stl\"))"
   ]
  },
  {
   "cell_type": "markdown",
   "id": "98363b60",
   "metadata": {},
   "source": [
    "## Experimental: shaded 3d net"
   ]
  },
  {
   "cell_type": "code",
   "execution_count": null,
   "id": "3ea46463",
   "metadata": {},
   "outputs": [],
   "source": [
    "l = list(N.facets.values())\n",
    "facet_colors = [mpl.colormaps[COLOR_SCHEME](k/len(l)) for k in range(len(l)) for _ in l[k].triangulate()]"
   ]
  },
  {
   "cell_type": "markdown",
   "id": "af9887b0",
   "metadata": {},
   "source": [
    "### Preview"
   ]
  },
  {
   "cell_type": "code",
   "execution_count": null,
   "id": "79e9c738",
   "metadata": {
    "scrolled": true
   },
   "outputs": [],
   "source": [
    "import mpl_toolkits.mplot3d as mpl3d\n",
    "\n",
    "ar = mpl3d.art3d.Poly3DCollection(thing.vectors, shade=True, lightsource=mpl.colors.LightSource(), facecolors=facet_colors)\n",
    "fig = plt.figure(dpi=DPI)\n",
    "ax = fig.add_subplot(projection='3d')\n",
    "ax.add_artist(ar)\n",
    "\n",
    "ax = configure_axes_3d(ax, thing.vectors, bg=BG_COLOR)"
   ]
  },
  {
   "cell_type": "markdown",
   "id": "fd32c587",
   "metadata": {},
   "source": [
    "### Save"
   ]
  },
  {
   "cell_type": "code",
   "execution_count": null,
   "id": "211ef5ef",
   "metadata": {},
   "outputs": [],
   "source": [
    "os.makedirs(DIR_SHADED_3D_NET, exist_ok=True)\n",
    "fig.savefig(os.path.join(DIR_SHADED_3D_NET, f\"{POLYTOPE}-{TAG}.png\"), dpi=DPI)"
   ]
  },
  {
   "cell_type": "markdown",
   "id": "6d07e940",
   "metadata": {},
   "source": [
    "# 2d nets"
   ]
  },
  {
   "cell_type": "code",
   "execution_count": null,
   "id": "90159c7e",
   "metadata": {},
   "outputs": [],
   "source": [
    "facets = [P.get_facet(i) for i in range(len(P.faces[P.dim-1]))]\n",
    "facet_nets = [F.net().unfold().in_own_span() for F in facets]"
   ]
  },
  {
   "cell_type": "markdown",
   "id": "7f97cba6",
   "metadata": {},
   "source": [
    "### Preview pane"
   ]
  },
  {
   "cell_type": "code",
   "execution_count": null,
   "id": "f3fdfd41",
   "metadata": {},
   "outputs": [],
   "source": [
    "lcs = [create_lc(list(net.iter_edges())) for net in facet_nets]\n",
    "\n",
    "# preview nets in approximately square grid\n",
    "h = int(np.ceil(np.sqrt(len(facets))))\n",
    "fig, axs = plt.subplots(h, h, figsize=(h*5,h*5))\n",
    "axs = list(itertools.chain(*axs))\n",
    "\n",
    "# hide and discard unused axes\n",
    "for _ in range(len(axs)-len(lcs)):\n",
    "    axs.pop().set_visible(False)\n",
    "\n",
    "# now display\n",
    "for ax, lc in zip(axs, lcs):\n",
    "    ax.add_collection(lc)\n",
    "    configure_axes(ax, bg=BG_COLOR)"
   ]
  },
  {
   "cell_type": "markdown",
   "id": "f69867d4",
   "metadata": {},
   "source": [
    "### Save PNGs"
   ]
  },
  {
   "cell_type": "code",
   "execution_count": null,
   "id": "c48f4ef6",
   "metadata": {},
   "outputs": [],
   "source": [
    "os.makedirs(DIR_2D, exist_ok=True)\n",
    "\n",
    "savedir = os.path.join(DIR_2D, f\"{POLYTOPE}-{TAG}\")\n",
    "os.makedirs(savedir, exist_ok=True)\n",
    "for n, ax in enumerate(axs):\n",
    "    save_subplot(fig, ax, os.path.join(savedir, f\"{n}.png\"), dpi=DPI)"
   ]
  }
 ],
 "metadata": {
  "kernelspec": {
   "display_name": "Python 3",
   "language": "python",
   "name": "python3"
  },
  "language_info": {
   "codemirror_mode": {
    "name": "ipython",
    "version": 3
   },
   "file_extension": ".py",
   "mimetype": "text/x-python",
   "name": "python",
   "nbconvert_exporter": "python",
   "pygments_lexer": "ipython3",
   "version": "3.9.4"
  }
 },
 "nbformat": 4,
 "nbformat_minor": 5
}
