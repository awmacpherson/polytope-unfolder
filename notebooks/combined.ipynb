{
 "cells": [
  {
   "cell_type": "markdown",
   "id": "af7ba762",
   "metadata": {},
   "source": [
    "# Table of Contents\n",
    "\n",
    "0. Preface\n",
    "  - Instructions\n",
    "  - Installer\n",
    "  - Imports\n",
    "  - Colour scheme preview\n",
    "1. 4D \n",
    "  - Animated rotating wireframe image (projected)\n",
    "  - Superposed animation frames (projected)\n",
    "2. 3D Net\n",
    "  - Wireframe image (projected)\n",
    "  - Solid cell-shaded image (projected)\n",
    "  - STL\n",
    "3. 2D facet nets\n",
    "  - Plain\n",
    "  - Solid colour (1 per facet)"
   ]
  },
  {
   "cell_type": "markdown",
   "id": "8f6f7d40",
   "metadata": {},
   "source": [
    "## Instructions\n",
    "\n",
    "1. Run the initialisation cells (down to **Colour scheme preview**) exactly once, before doing anything else.\n",
    "2. In the **Colour scheme preview** section, run the first cell to display a list of colour schemes. Change the value of `PREVIEW_COLOR_SCHEME` in the second cell and run it to get a preview of that colour scheme.\n",
    "3. The first half of the **Parameters** cell is where you can set all the options for the output. They should be more or less self explanatory; more will be added later. Note that strange things can happen with the projection is `PERSPECTIVE_DISTANCE` is set too low.\n",
    "4. Run the **Randomization** cell each time you want to generate a new viewing angle.\n",
    "5. In the **Output area**, each type of output has a *preview pane* cell and a *save files* cell. Run the preview pane cell and adjust **Parameters** until you find a view you like, then run the save files cell. Files are saved to `SAVE_DIRECTORY` (which is `./output` by default).\n",
    "   \n",
    "   Note that it is not possible to preview animations or STL files. For animations, ffmpeg must be installed (this should happen automatically if you are running the notebook on mybinder.org)."
   ]
  },
  {
   "cell_type": "code",
   "execution_count": null,
   "id": "5d9ff749",
   "metadata": {},
   "outputs": [],
   "source": [
    "# Installer\n",
    "import sys\n",
    "!{sys.executable} -m pip install ..\n",
    "\n",
    "# install ffmpeg for animations (assuming x86 linux with ~/.local/bin on path)\n",
    "#!wget https://johnvansickle.com/ffmpeg/releases/ffmpeg-release-amd64-static.tar.xz\n",
    "#!unxz ffmpeg-release-amd64-static.tar.xz\n",
    "#!tar xf ffmpeg-release-amd64-static.tar\n",
    "#!ln -s $(pwd)/ffmpeg-6.0-amd64-static/ffmpeg $HOME/.local/ffmpeg\n",
    "\n",
    "# uncomment the next line and rerun in case of ffmpeg troubles\n",
    "#!conda install -yq -c conda-forge ffmpeg\n",
    "\n",
    "# IMPORTS\n",
    "from tope import Tope\n",
    "from tope.net import *\n",
    "from tope.orth import *\n",
    "from tope.graph import Graph\n",
    "from tope.plot import *\n",
    "\n",
    "import numpy as np\n",
    "\n",
    "import matplotlib as mpl\n",
    "import matplotlib.pyplot as plt\n",
    "\n",
    "import json, os\n",
    "\n",
    "# import prepackaged data\n",
    "with open(\"../data/polys2.json\") as fd: \n",
    "    polys = json.load(fd)\n",
    "    \n",
    "# and the rest\n",
    "import gzip\n",
    "with gzip.open(\"../data/474polys.json.gz\", \"rt\") as fd:\n",
    "    polys.update(json.load(fd))\n",
    "\n",
    "with gzip.open(\"../data/d30.json.gz\", \"rt\") as fd:\n",
    "    d30 = json.load(fd)\n",
    "polys.update({f\"d30-{record['ID']}\": record[\"Vertices\"] for record in d30})\n",
    "\n",
    "logger.remove()"
   ]
  },
  {
   "cell_type": "code",
   "execution_count": null,
   "id": "8dd5a9e1",
   "metadata": {},
   "outputs": [],
   "source": [
    "def create_lc(edges, color_map = \"Set2\", color_range=(0.25,0.75), lw=1):\n",
    "    segments = []\n",
    "    colors = []\n",
    "    cmap = mpl.colormaps.get(color_map)\n",
    "    for i, edge in enumerate(edges):\n",
    "        segments.append(edge)\n",
    "        crange_start = color_range[0]\n",
    "        crange_step = (color_range[1]-color_range[0]) / len(edges)\n",
    "        colors.append(cmap(crange_start + i*crange_step))\n",
    "    return mpl.collections.LineCollection(segments, color=colors, linewidth=lw)\n",
    "\n",
    "def get_wireframe(P: Tope, rotator, perspective_distance=10):\n",
    "    rotate  = lambda e: e @ rotator\n",
    "    project = lambda e: perspective_project(perspective_project(e, perspective_distance), perspective_distance)\n",
    "    return list(map(project, map(rotate, P.iter_faces_as_arrays(dim=1))))\n",
    "\n",
    "def generate_rotators(N: int, num_steps: int = 10) -> np.ndarray:\n",
    "    \"\"\"\n",
    "    Generate num_steps evenly spaced rotations of stacked vectors.\n",
    "    \"\"\"\n",
    "    return rotator_nd(np.arange(0, 2*np.pi, 2*np.pi / num_steps), N)"
   ]
  },
  {
   "cell_type": "markdown",
   "id": "cf831846",
   "metadata": {},
   "source": [
    "## Polytope ID listing"
   ]
  },
  {
   "cell_type": "code",
   "execution_count": null,
   "id": "0d43da7e",
   "metadata": {},
   "outputs": [],
   "source": [
    "print(\"Available polytopes:\")\n",
    "print(\"--------------------\")\n",
    "for i, cm in enumerate(polys): \n",
    "    print(f\"{cm:14}\", end=\"\")\n",
    "    if i%8==7: print()\n",
    "print()\n",
    "print()\n",
    "print(\"Note: all numbers less than 474000000 and ending in 123456 are available.\")\n",
    "print(\"Entries whose ID has the prefix 'd30-' have at least 30 facets.\")"
   ]
  },
  {
   "cell_type": "markdown",
   "id": "97d3b30f",
   "metadata": {},
   "source": [
    "# Colour scheme preview"
   ]
  },
  {
   "cell_type": "code",
   "execution_count": null,
   "id": "0ee46839",
   "metadata": {},
   "outputs": [],
   "source": [
    "print(\"Available named colors:\")\n",
    "print(\"-----------------------\")\n",
    "for i, cm in enumerate(mpl.colors.get_named_colors_mapping()): \n",
    "    print(f\"{cm:24}\", end=\"\")\n",
    "    if i%5==4: print()"
   ]
  },
  {
   "cell_type": "code",
   "execution_count": null,
   "id": "8d7a89ec",
   "metadata": {},
   "outputs": [],
   "source": [
    "print(\"Available color schemes:\")\n",
    "print(\"------------------------\")\n",
    "for i, cm in enumerate(mpl.colormaps): \n",
    "    print(f\"{cm:20}\", end=\"\")\n",
    "    if i%5==4: print()"
   ]
  },
  {
   "cell_type": "markdown",
   "id": "5e69a81c",
   "metadata": {},
   "source": [
    "#### Paste one of these strings in between the quotation marks and run this cell (Shift+Enter) to preview a colour scheme!"
   ]
  },
  {
   "cell_type": "code",
   "execution_count": null,
   "id": "ab8a5c4c",
   "metadata": {},
   "outputs": [],
   "source": [
    "PREVIEW_COLOR_SCHEME = \"Spectral\"\n",
    "mpl.colormaps.get(PREVIEW_COLOR_SCHEME)"
   ]
  },
  {
   "cell_type": "markdown",
   "id": "a3912696",
   "metadata": {},
   "source": [
    "# Parameters"
   ]
  },
  {
   "cell_type": "code",
   "execution_count": null,
   "id": "18420be5",
   "metadata": {},
   "outputs": [],
   "source": [
    "POLYTOPE     = \"375123456\"\n",
    "\n",
    "COLOR_SCHEME      = \"Pastel1_r\"\n",
    "COLOR_RANGE_BEGIN = 0.25   # between 0 and 1\n",
    "COLOR_RANGE_END   = 0.75   # between 0 and 1\n",
    "BG_COLOR         = \"xkcd:poo brown\"\n",
    "\n",
    "PERSPECTIVE_DISTANCE = 10\n",
    "\n",
    "DPI           = 300\n",
    "ANIMATION_DPI = 150\n",
    "\n",
    "TAG            = \"bum\" # put nonempty string here to add custom text to filenames\n",
    "SAVE_DIRECTORY = \"output\"\n",
    "\n",
    "\n",
    "\n",
    "# don't change ##################\n",
    "os.makedirs(SAVE_DIRECTORY, exist_ok=True)\n",
    "\n",
    "DIR_4D = os.path.join(SAVE_DIRECTORY, \"4d-wireframe\")\n",
    "DIR_ANIMATION = os.path.join(DIR_4D, \"animated\")\n",
    "DIR_SMEARED = os.path.join(DIR_4D, \"smeared\")\n",
    "DIR_3D = os.path.join(SAVE_DIRECTORY, \"3d-net\")\n",
    "DIR_STL = os.path.join(DIR_3D, \"stl\")\n",
    "DIR_NET_PROJECTION = os.path.join(DIR_3D, \"projected\")\n",
    "DIR_SHADED_3D_NET = os.path.join(DIR_3D, \"shaded\")\n",
    "DIR_2D = os.path.join(SAVE_DIRECTORY, \"facet-nets\")\n",
    "P = Tope.from_vertices(polys[POLYTOPE])\n",
    "\n",
    "Q3 = Q3 if 'Q3' in globals() else None\n",
    "TAG = TAG or ((id(POLYTOPE)+id(Q3))%65536).to_bytes(2,\"big\").hex()"
   ]
  },
  {
   "cell_type": "markdown",
   "id": "18146a1a",
   "metadata": {},
   "source": [
    "## Randomization"
   ]
  },
  {
   "cell_type": "code",
   "execution_count": null,
   "id": "09b6a5db",
   "metadata": {},
   "outputs": [],
   "source": [
    "Q4a = random_orth(4)\n",
    "Q4b = random_orth(4)\n",
    "Q3 = random_orth(3)\n",
    "I4 = np.eye(4)\n",
    "\n",
    "TAG = TAG or ((id(POLYTOPE)+id(Q3))%65536).to_bytes(2,\"big\").hex()"
   ]
  },
  {
   "cell_type": "markdown",
   "id": "70823f1c",
   "metadata": {},
   "source": [
    "# Output area"
   ]
  },
  {
   "cell_type": "markdown",
   "id": "2f9e1788",
   "metadata": {},
   "source": [
    "# 4D"
   ]
  },
  {
   "cell_type": "code",
   "execution_count": null,
   "id": "929c15df",
   "metadata": {},
   "outputs": [],
   "source": [
    "def get_frames(P, before, after, num_steps=10):\n",
    "    return [create_lc(get_wireframe(P, before @ rotator_nd(theta, 4) @ after)) for theta in np.arange(0, 2*np.pi, 2*np.pi / num_steps)]"
   ]
  },
  {
   "cell_type": "code",
   "execution_count": null,
   "id": "4a477539",
   "metadata": {},
   "outputs": [],
   "source": [
    "def plot_wireframe(\n",
    "    wf: list[np.ndarray], # iterable yielding 2x2 arrays\n",
    "    color_map = \"Pastel1_r\",\n",
    "    color_range = (0.25,0.75),\n",
    "    weight = 1,\n",
    "    bg_color = \"beige\",\n",
    "    border = False,\n",
    "    **kwargs\n",
    "):\n",
    "    \n",
    "    fig, ax = plt.subplots()\n",
    "    \n",
    "    lines = create_lc(\n",
    "        wf,\n",
    "        color_map = color_map,\n",
    "        color_range = color_range,\n",
    "        lw = weight\n",
    "    )\n",
    "\n",
    "    ax.add_collection(lines)\n",
    "    \n",
    "    ax.autoscale()\n",
    "    ax = configure_axes(ax, bg=bg_color, border=border)\n",
    "\n",
    "    return fig, ax"
   ]
  },
  {
   "cell_type": "markdown",
   "id": "60f7c187",
   "metadata": {},
   "source": [
    "### Preview 4d wireframe"
   ]
  },
  {
   "cell_type": "code",
   "execution_count": null,
   "id": "261e9ef7",
   "metadata": {},
   "outputs": [],
   "source": [
    "fig, _ = plot_wireframe(get_wireframe(P, Q4b), border=True, color_map = \"Spectral\", color_range=(0.75,1), bg_color=BG_COLOR)\n",
    "fig.set_size_inches(10,10)"
   ]
  },
  {
   "cell_type": "code",
   "execution_count": null,
   "id": "f51a4c60",
   "metadata": {},
   "outputs": [],
   "source": [
    "frames = get_frames(P, Q4a, Q4b, num_steps=100)\n",
    "bbox = get_tightbbox(*frames) # must compute before adding artists to axes!\n",
    "\n",
    "fig, ax = plt.subplots()\n",
    "for frame in frames:\n",
    "    ax.add_artist(frame)\n",
    "ax.dataLim = bbox\n",
    "ax = configure_axes(ax, bg=BG_COLOR)"
   ]
  },
  {
   "cell_type": "markdown",
   "id": "5784def0",
   "metadata": {},
   "source": [
    "### Save output (smear and animation)\n",
    "Make sure to run the previous cell first!"
   ]
  },
  {
   "cell_type": "code",
   "execution_count": null,
   "id": "9ac13ad6",
   "metadata": {},
   "outputs": [],
   "source": [
    "# save smear\n",
    "os.makedirs(DIR_SMEARED, exist_ok=True)\n",
    "fig.savefig(os.path.join(DIR_SMEARED, f\"{POLYTOPE}-{TAG}.png\"), dpi=DPI) \n",
    "\n",
    "# save animation\n",
    "from matplotlib.animation import ArtistAnimation\n",
    "os.makedirs(DIR_ANIMATION, exist_ok=True)\n",
    "animation = ArtistAnimation(fig, [[frame] for frame in frames], interval=1000/60)\n",
    "animation.save(os.path.join(DIR_ANIMATION, f\"{POLYTOPE}-{TAG}.mp4\"), dpi=ANIMATION_DPI)"
   ]
  },
  {
   "cell_type": "markdown",
   "id": "c53f8fe9",
   "metadata": {},
   "source": [
    "# 3D net"
   ]
  },
  {
   "cell_type": "code",
   "execution_count": null,
   "id": "749bb219",
   "metadata": {
    "scrolled": true
   },
   "outputs": [],
   "source": [
    "N = P.net().unfold().in_own_span()"
   ]
  },
  {
   "cell_type": "markdown",
   "id": "12569685",
   "metadata": {},
   "source": [
    "### Preview"
   ]
  },
  {
   "cell_type": "code",
   "execution_count": null,
   "id": "d8442faf",
   "metadata": {},
   "outputs": [],
   "source": [
    "fig, ax = plt.subplots(dpi=DPI)\n",
    "\n",
    "cell_edges = [np.stack([F.vertices[sorted(e)] for e in F.iter_faces(1)]) for F in N.facets.values()]\n",
    "cmaps = list(mpl.colormaps)\n",
    "\n",
    "for n, cell in enumerate(cell_edges):\n",
    "    edges = perspective_project(cell @ Q3, 10)\n",
    "    lc = create_lc(edges, color_map = cmaps[n%len(cmaps)])\n",
    "    ax.add_collection(lc)\n",
    "\n",
    "#ax = configure_axes(ax, bg=BG_COLOR)\n",
    "limits = ax.axis(\"scaled\")\n",
    "ax.set_axis_off()\n",
    "ax.set_facecolor(\"black\")\n",
    "\n",
    "fig.set_size_inches(20,20)"
   ]
  },
  {
   "cell_type": "markdown",
   "id": "fe82b5e7",
   "metadata": {},
   "source": [
    "### Save output\n",
    "Make sure to run the previous cell first!"
   ]
  },
  {
   "cell_type": "code",
   "execution_count": null,
   "id": "dc653a9b",
   "metadata": {},
   "outputs": [],
   "source": [
    "os.makedirs(DIR_NET_PROJECTION, exist_ok=True)\n",
    "fig.savefig(os.path.join(DIR_NET_PROJECTION, f\"{POLYTOPE}-{TAG}.png\"), dpi=DPI)"
   ]
  },
  {
   "cell_type": "markdown",
   "id": "80c3e1b7",
   "metadata": {},
   "source": [
    "## STL\n",
    "Export as STL"
   ]
  },
  {
   "cell_type": "code",
   "execution_count": null,
   "id": "d41962a4",
   "metadata": {},
   "outputs": [],
   "source": [
    "from tope.stl import create_stl\n",
    "thing = create_stl(*N.facets.values())\n",
    "assert thing.check()\n",
    "\n",
    "os.makedirs(DIR_STL, exist_ok=True)\n",
    "thing.save(os.path.join(DIR_STL, f\"{POLYTOPE}-{TAG}.stl\"))"
   ]
  },
  {
   "cell_type": "markdown",
   "id": "98363b60",
   "metadata": {},
   "source": [
    "## Experimental: shaded 3d net"
   ]
  },
  {
   "cell_type": "code",
   "execution_count": null,
   "id": "3ea46463",
   "metadata": {},
   "outputs": [],
   "source": [
    "l = list(N.facets.values())\n",
    "colors = [mpl.colormaps[COLOR_SCHEME](k/len(l)) for k in range(len(l)) for _ in l[k].triangulate()]"
   ]
  },
  {
   "cell_type": "markdown",
   "id": "8519cc40",
   "metadata": {},
   "source": [
    "### Preview"
   ]
  },
  {
   "cell_type": "code",
   "execution_count": null,
   "id": "79e9c738",
   "metadata": {
    "scrolled": true
   },
   "outputs": [],
   "source": [
    "import mpl_toolkits.mplot3d as mpl3d\n",
    "\n",
    "ar = mpl3d.art3d.Poly3DCollection(thing.vectors, shade=True, lightsource=mpl.colors.LightSource(), facecolors=colors)\n",
    "fig = plt.figure(dpi=300)\n",
    "ax = fig.add_subplot(projection='3d')\n",
    "ax.add_artist(ar)\n",
    "\n",
    "ax = configure_axes_3d(ax, thing.vectors, bg=BG_COLOR)"
   ]
  },
  {
   "cell_type": "markdown",
   "id": "8314e63a",
   "metadata": {},
   "source": [
    "### Save"
   ]
  },
  {
   "cell_type": "code",
   "execution_count": null,
   "id": "211ef5ef",
   "metadata": {},
   "outputs": [],
   "source": [
    "os.makedirs(DIR_SHADED_3D_NET, exist_ok=True)\n",
    "fig.savefig(os.path.join(DIR_SHADED_3D_NET, f\"{POLYTOPE}-{TAG}.png\"), dpi=DPI)"
   ]
  },
  {
   "cell_type": "markdown",
   "id": "6d07e940",
   "metadata": {},
   "source": [
    "# 2d nets"
   ]
  },
  {
   "cell_type": "code",
   "execution_count": null,
   "id": "90159c7e",
   "metadata": {},
   "outputs": [],
   "source": []
  }
 ],
 "metadata": {
  "kernelspec": {
   "display_name": "Python 3",
   "language": "python",
   "name": "python3"
  },
  "language_info": {
   "codemirror_mode": {
    "name": "ipython",
    "version": 3
   },
   "file_extension": ".py",
   "mimetype": "text/x-python",
   "name": "python",
   "nbconvert_exporter": "python",
   "pygments_lexer": "ipython3",
   "version": "3.9.4"
  }
 },
 "nbformat": 4,
 "nbformat_minor": 5
}
