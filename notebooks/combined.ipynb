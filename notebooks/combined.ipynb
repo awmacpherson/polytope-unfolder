{
 "cells": [
  {
   "cell_type": "markdown",
   "id": "e204c7df",
   "metadata": {},
   "source": [
    "# Table of Contents\n",
    "\n",
    "0. Preface\n",
    "  - Instructions\n",
    "  - Installer\n",
    "  - Imports\n",
    "  - Colour scheme preview\n",
    "1. 4D \n",
    "  - Animated rotating wireframe image (projected)\n",
    "  - Superposed animation frames (projected)\n",
    "2. 3D Net\n",
    "  - Wireframe image (projected)\n",
    "  - Solid cell-shaded image (projected)\n",
    "  - STL\n",
    "3. 2D facet nets\n",
    "  - Plain\n",
    "  - Solid colour (1 per facet) (WIP)"
   ]
  },
  {
   "cell_type": "markdown",
   "id": "4b55e965",
   "metadata": {},
   "source": [
    "## Instructions\n",
    "\n",
    "1. Run the initialisation cells (down to **Colour scheme preview**) exactly once, before doing anything else.\n",
    "2. In the **Colour scheme preview** section, run the first cell to display a list of colour schemes. Change the value of `PREVIEW_COLOR_SCHEME` in the second cell and run it to get a preview of that colour scheme.\n",
    "3. The first half of the **Parameters** cell is where you can set all the options for the output. They should be more or less self explanatory; more will be added later. Note that strange things can happen with the projection is `PERSPECTIVE_DISTANCE` is set too low.\n",
    "4. Run the **Randomization** cell each time you want to generate a new viewing angle.\n",
    "5. In the **Output area**, each type of output has a *preview pane* cell and a *save files* cell. Run the preview pane cell and adjust **Parameters** until you find a view you like, then run the save files cell. \n",
    "6. Files are saved to `SAVE_DIRECTORY` (which is `./output` by default). You can add a custom suffix to the filename by setting the `TAG` parameter. If `TAG` is set to the empty string, i.e. `TAG = \"\"`, a 4 character suffix is generated automatically. This suffix automatically changes whenver you change the parameters or regenerate the viewing angle.\n",
    "7. Note that it is not possible to preview animations or STL files. For animations, ffmpeg must be installed (this should happen automatically if you are running the notebook on mybinder.org)."
   ]
  },
  {
   "cell_type": "code",
   "execution_count": null,
   "id": "2894fb7a",
   "metadata": {},
   "outputs": [],
   "source": [
    "# Installer\n",
    "import sys, os\n",
    "\n",
    "# IMPORTS\n",
    "sys.path.append(\"..\")\n",
    "try:\n",
    "    from tope import Tope\n",
    "except ImportError:\n",
    "    !{sys.executable} -m pip install ..\n",
    "    from tope import Tope\n",
    "from tope.net import *\n",
    "from tope.orth import *\n",
    "from tope.graph import Graph\n",
    "from tope.plot import *\n",
    "\n",
    "import numpy as np\n",
    "rng = np.random.default_rng()\n",
    "\n",
    "import matplotlib as mpl\n",
    "import matplotlib.pyplot as plt\n",
    "\n",
    "import json, os\n",
    "import itertools\n",
    "\n",
    "DATA_DIR = os.environ.get(\"POLYTOPE_UNFOLDER_DATA_DIRECTORY\") or \"../data\"\n",
    "\n",
    "# import prepackaged data\n",
    "with open(os.path.join(DATA_DIR, \"polys2.json\")) as fd: \n",
    "    polys = json.load(fd)\n",
    "    \n",
    "# and the rest\n",
    "import gzip\n",
    "with gzip.open(os.path.join(DATA_DIR, \"474polys.json.gz\"), \"rt\") as fd:\n",
    "    polys.update(json.load(fd))\n",
    "\n",
    "with gzip.open(os.path.join(DATA_DIR, \"d30.json.gz\"), \"rt\") as fd:\n",
    "    d30 = json.load(fd)\n",
    "polys.update({f\"d30-{record['ID']}\": record[\"Vertices\"] for record in d30})\n",
    "\n",
    "with open(os.path.join(DATA_DIR, \"20s.json\")) as fd:\n",
    "    polys.update(json.load(fd))\n",
    "\n",
    "with open(os.path.join(DATA_DIR, \"10s-short.json\")) as fd:\n",
    "    polys.update(json.load(fd))\n",
    "    \n",
    "logger.remove()"
   ]
  },
  {
   "cell_type": "code",
   "execution_count": null,
   "id": "332cf9be",
   "metadata": {},
   "outputs": [],
   "source": [
    "def create_lc(edges, color_map = \"Set2\", color_range=(0.25,0.75), lw=1):\n",
    "    segments = []\n",
    "    colors = []\n",
    "    cmap = mpl.colormaps.get(color_map)\n",
    "    for i, edge in enumerate(edges):\n",
    "        segments.append(edge)\n",
    "        crange_start = color_range[0]\n",
    "        crange_step = (color_range[1]-color_range[0]) / len(edges)\n",
    "        colors.append(cmap(crange_start + i*crange_step))\n",
    "    return mpl.collections.LineCollection(segments, color=colors, linewidth=lw)\n",
    "\n",
    "def get_wireframe(P: Tope, rotator, perspective_distance=10):\n",
    "    rotate  = lambda e: e @ rotator\n",
    "    project = lambda e: perspective_project(perspective_project(e, perspective_distance), perspective_distance)\n",
    "    return list(map(project, map(rotate, P.iter_faces_as_arrays(dim=1))))\n",
    "\n",
    "def generate_rotators(N: int, num_steps: int = 10) -> np.ndarray:\n",
    "    \"\"\"\n",
    "    Generate num_steps evenly spaced rotations of stacked vectors.\n",
    "    \"\"\"\n",
    "    return rotator_nd(np.arange(0, 2*np.pi, 2*np.pi / num_steps), N)"
   ]
  },
  {
   "cell_type": "code",
   "execution_count": null,
   "id": "377020d9",
   "metadata": {},
   "outputs": [],
   "source": [
    "# Special rotation\n",
    "\n",
    "Q4a_d = {\n",
    "    \"standard\": np.eye(4),\n",
    "    \"random\": random_orth(4),\n",
    "    \"diagonal\": np.array([\n",
    "        [-1,0,1,0],\n",
    "        [0,-1,1,0],\n",
    "        [0,0,1,0],\n",
    "        [0,0,0,1]\n",
    "    ])\n",
    "}\n",
    "\n",
    "Q4b_d = {\n",
    "    \"obverse\": np.eye(4),\n",
    "    \"lateral\": np.array([\n",
    "        [0,0,1,0],\n",
    "        [0,0,0,1],\n",
    "        [1,0,0,0],\n",
    "        [0,1,0,0]\n",
    "    ]),\n",
    "    \"mixed\": np.array([\n",
    "        [1,0,0,0],\n",
    "        [0,0,1,0],\n",
    "        [0,1,0,0],\n",
    "        [0,0,0,1]\n",
    "    ]),\n",
    "    \"random\": random_orth(4)\n",
    "}"
   ]
  },
  {
   "cell_type": "markdown",
   "id": "e7fd6a13",
   "metadata": {},
   "source": [
    "## Polytope ID listing"
   ]
  },
  {
   "cell_type": "code",
   "execution_count": null,
   "id": "2f46879f",
   "metadata": {},
   "outputs": [],
   "source": [
    "print(\"Available polytopes:\")\n",
    "print(\"--------------------\")\n",
    "for i, cm in enumerate(polys): \n",
    "    print(f\"{cm:14}\", end=\"\")\n",
    "    if i%8==7: print()\n",
    "print()\n",
    "print()\n",
    "print(\"Note: all numbers less than 474000000 and ending in 123456 are available.\")\n",
    "print(\"Entries whose ID has the prefix 'd30-' have at least 30 facets.\")"
   ]
  },
  {
   "cell_type": "markdown",
   "id": "0dd069bf",
   "metadata": {},
   "source": [
    "# Colour scheme preview"
   ]
  },
  {
   "cell_type": "code",
   "execution_count": null,
   "id": "76c9c57d",
   "metadata": {},
   "outputs": [],
   "source": [
    "print(\"Available named colors:\")\n",
    "print(\"-----------------------\")\n",
    "count = 0\n",
    "for cm in mpl.colors.get_named_colors_mapping(): \n",
    "    if cm.startswith(\"xkcd:\"): continue\n",
    "    print(f\"{cm:24}\", end=\"\")\n",
    "    count += 1\n",
    "    if count%5==4: print()\n",
    "print(\"\\n-----------------------\")\n",
    "print(\"Note: b/g/r/c/m/y/k/w are short for blue/green/red/cyan/magenta/yellow/black/white.\")"
   ]
  },
  {
   "cell_type": "code",
   "execution_count": null,
   "id": "685886fb",
   "metadata": {},
   "outputs": [],
   "source": [
    "print(\"Available color schemes:\")\n",
    "print(\"------------------------\")\n",
    "count = 0\n",
    "for cm in mpl.colormaps: \n",
    "    print(f\"{cm:20}\", end=\"\")\n",
    "    count += 1\n",
    "    if count%6==5: print()"
   ]
  },
  {
   "cell_type": "markdown",
   "id": "875fd317",
   "metadata": {},
   "source": [
    "#### Paste one of these strings in between the quotation marks and run this cell (Shift+Enter) to preview a colour scheme!"
   ]
  },
  {
   "cell_type": "code",
   "execution_count": null,
   "id": "70bad0ae",
   "metadata": {},
   "outputs": [],
   "source": [
    "PREVIEW_COLOR_SCHEME = \"tab20_r\"\n",
    "mpl.colormaps.get(PREVIEW_COLOR_SCHEME)"
   ]
  },
  {
   "cell_type": "markdown",
   "id": "53edc4d4",
   "metadata": {},
   "source": [
    "# Parameters"
   ]
  },
  {
   "cell_type": "code",
   "execution_count": null,
   "id": "6fb300f3",
   "metadata": {},
   "outputs": [],
   "source": [
    "POLYTOPE     = \"d10-43226722\"\n",
    "\n",
    "COLOR_SCHEME      = \"tab20_r\"\n",
    "COLOR_RANGE_BEGIN = 0.25   # between 0 and 1\n",
    "COLOR_RANGE_END   = 0.75   # between 0 and 1\n",
    "BG_COLOR         = \"black\"\n",
    "\n",
    "PERSPECTIVE_DISTANCE = 10\n",
    "\n",
    "DPI           = 300\n",
    "ANIMATION_DPI = 150\n",
    "\n",
    "IMAGE_FORMAT   = \"svg\" # or \"svg\" or whatever\n",
    "TAG            = \"\" # put nonempty string here to add custom text to filenames\n",
    "                    # otherwise a new tag will be generated every time this cell is run\n",
    "\n",
    "ROTATION_AXIS = \"diagonal\"    # \"standard\" or \"diagonal\" or \"random\"\n",
    "PROJECTION = \"obverse\" # \"lateral\" or \"obverse\" or \"mixed\" or \"random\"\n",
    "\n",
    "ANIMATION_FPS = 20 # frame per seconds in the animation\n",
    "ANIMATION_LENGTH_SECS = 3 # total length of the animation in seconds\n",
    "\n",
    "STL_THICKNESS = 15 # thickness of frame for stl with wireframe in mm\n",
    "STL_BOX_SIZE = 1000 # side of box which countains the stl with wireframe in mm (rough estimate)\n",
    "\n",
    "\n",
    "# don't change ##################\n",
    "SAVE_DIRECTORY = os.environ.get(\"POLYTOPE_UNFOLDER_OUTPUT_DIRECTORY\") or \"output\"\n",
    "os.makedirs(SAVE_DIRECTORY, exist_ok=True)\n",
    "\n",
    "DIR_4D = os.path.join(SAVE_DIRECTORY, \"4d-wireframe\")\n",
    "DIR_ANIMATION = os.path.join(DIR_4D, \"animated\")\n",
    "DIR_SMEARED = os.path.join(DIR_4D, \"smeared\")\n",
    "DIR_3D = os.path.join(SAVE_DIRECTORY, \"3d-net\")\n",
    "DIR_STL = os.path.join(DIR_3D, \"stl\")\n",
    "DIR_NET_PROJECTION = os.path.join(DIR_3D, \"projected\")\n",
    "DIR_SHADED_3D_NET = os.path.join(DIR_3D, \"shaded\")\n",
    "DIR_2D = os.path.join(SAVE_DIRECTORY, \"facet-nets\")\n",
    "P = Tope.from_vertices(polys[POLYTOPE])\n",
    "P.vertices = P.vertices.astype(float) + rng.random(size=4) # random offset\n",
    "\n",
    "configvars = [\n",
    "    POLYTOPE, COLOR_SCHEME, COLOR_RANGE_BEGIN, BG_COLOR, PERSPECTIVE_DISTANCE, DPI, ANIMATION_DPI\n",
    "]\n",
    "\n",
    "def get_tag():\n",
    "    return TAG or (sum(id(v) for v in configvars)%65536).to_bytes(2,\"big\").hex()\n",
    "\n",
    "# pre-rotation\n",
    "ROTATION_AXIS = ROTATION_AXIS.lower().strip()\n",
    "PROJECTION = PROJECTION.lower().strip()\n",
    "Q4a = random_orth(4) if \"random\".startswith(ROTATION_AXIS) else Q4a_d[ROTATION_AXIS]\n",
    "Q4b = random_orth(4) if \"random\".startswith(PROJECTION) else Q4b_d[PROJECTION]\n",
    "\n",
    "# other\n",
    "Q3 = random_orth(3)"
   ]
  },
  {
   "cell_type": "markdown",
   "id": "21a1e6b4",
   "metadata": {},
   "source": [
    "# Output area"
   ]
  },
  {
   "cell_type": "markdown",
   "id": "9dda528e",
   "metadata": {},
   "source": [
    "# 4D"
   ]
  },
  {
   "cell_type": "code",
   "execution_count": null,
   "id": "8fc65b7e",
   "metadata": {},
   "outputs": [],
   "source": [
    "def get_frames(P, before, after, num_steps=10):\n",
    "    return [create_lc(get_wireframe(P, before @ rotator_nd(theta, 4) @ after)) for theta in np.arange(0, 2*np.pi, 2*np.pi / num_steps)]"
   ]
  },
  {
   "cell_type": "code",
   "execution_count": null,
   "id": "d135be2a",
   "metadata": {},
   "outputs": [],
   "source": [
    "def plot_wireframe(\n",
    "    wf: list[np.ndarray], # iterable yielding 2x2 arrays\n",
    "    color_map = \"Pastel1_r\",\n",
    "    color_range = (0.25,0.75),\n",
    "    weight = 1,\n",
    "    bg_color = \"beige\",\n",
    "    border = False,\n",
    "    **kwargs\n",
    "):\n",
    "    \n",
    "    fig, ax = plt.subplots()\n",
    "    \n",
    "    lines = create_lc(\n",
    "        wf,\n",
    "        color_map = color_map,\n",
    "        color_range = color_range,\n",
    "        lw = weight\n",
    "    )\n",
    "\n",
    "    ax.add_collection(lines)\n",
    "    \n",
    "    ax.autoscale()\n",
    "    ax = configure_axes(ax, bg=bg_color, border=border)\n",
    "\n",
    "    return fig, ax"
   ]
  },
  {
   "cell_type": "markdown",
   "id": "f134d738",
   "metadata": {},
   "source": [
    "### Preview 4d wireframe"
   ]
  },
  {
   "cell_type": "code",
   "execution_count": null,
   "id": "4000d4da",
   "metadata": {},
   "outputs": [],
   "source": [
    "fig, _ = plot_wireframe(get_wireframe(P, Q4b), border=True, color_map = \"Spectral\", color_range=(0.75,1), bg_color=BG_COLOR)\n",
    "fig.set_size_inches(10,10)"
   ]
  },
  {
   "cell_type": "code",
   "execution_count": null,
   "id": "09ac1f40",
   "metadata": {},
   "outputs": [],
   "source": [
    "frames = get_frames(P, Q4a, Q4b, num_steps=ANIMATION_LENGTH_SECS*ANIMATION_FPS)\n",
    "bbox = get_tightbbox(*frames) # must compute before adding artists to axes!\n",
    "\n",
    "fig, ax = plt.subplots()\n",
    "for frame in frames:\n",
    "    ax.add_artist(frame)\n",
    "ax.dataLim = bbox\n",
    "ax = configure_axes(ax, BG_COLOR)"
   ]
  },
  {
   "cell_type": "markdown",
   "id": "9bdfc19c",
   "metadata": {},
   "source": [
    "### Save output (smear and animation)\n",
    "Make sure to run the previous cell first!"
   ]
  },
  {
   "cell_type": "code",
   "execution_count": null,
   "id": "6e2398fe",
   "metadata": {},
   "outputs": [],
   "source": [
    "TAG = get_tag()\n",
    "\n",
    "# save smear\n",
    "os.makedirs(DIR_SMEARED, exist_ok=True)\n",
    "fig.savefig(os.path.join(DIR_SMEARED, f\"{POLYTOPE}-{TAG}.{IMAGE_FORMAT}\"), dpi=DPI)\n",
    "\n",
    "# save animation\n",
    "from matplotlib.animation import ArtistAnimation\n",
    "os.makedirs(DIR_ANIMATION, exist_ok=True)\n",
    "animation = ArtistAnimation(fig, [[frame] for frame in frames], interval=1000/ANIMATION_FPS)\n",
    "animation.save(os.path.join(DIR_ANIMATION, f\"{POLYTOPE}-{TAG}.mp4\"), dpi=ANIMATION_DPI)"
   ]
  },
  {
   "cell_type": "markdown",
   "id": "5853a6f1",
   "metadata": {},
   "source": [
    "# 3D net"
   ]
  },
  {
   "cell_type": "code",
   "execution_count": null,
   "id": "3517d176",
   "metadata": {},
   "outputs": [],
   "source": [
    "P.save_index()\n",
    "N = P.net().unfold().in_own_span()"
   ]
  },
  {
   "cell_type": "markdown",
   "id": "eba37064",
   "metadata": {},
   "source": [
    "### Preview"
   ]
  },
  {
   "cell_type": "code",
   "execution_count": null,
   "id": "4f345392",
   "metadata": {},
   "outputs": [],
   "source": [
    "fig, ax = plt.subplots(dpi=DPI)\n",
    "\n",
    "cell_edges = [np.stack([F.vertices[sorted(e)] for e in F.iter_faces(1)]) for F in N.facets.values()]\n",
    "cmaps = list(mpl.colormaps)\n",
    "\n",
    "for n, cell in enumerate(cell_edges):\n",
    "    edges = perspective_project(cell @ Q3, 10)\n",
    "    lc = create_lc(edges, color_map = cmaps[n%len(cmaps)])\n",
    "    ax.add_collection(lc)\n",
    "\n",
    "ax = configure_axes(ax, bg=BG_COLOR)\n",
    "\n",
    "fig.set_size_inches(20,20)"
   ]
  },
  {
   "cell_type": "markdown",
   "id": "1edc3c11",
   "metadata": {},
   "source": [
    "### Save output\n",
    "Make sure to run the previous cell first!"
   ]
  },
  {
   "cell_type": "code",
   "execution_count": null,
   "id": "6d64e667",
   "metadata": {},
   "outputs": [],
   "source": [
    "TAG = get_tag()\n",
    "\n",
    "os.makedirs(DIR_NET_PROJECTION, exist_ok=True)\n",
    "fig.savefig(os.path.join(DIR_NET_PROJECTION, f\"{POLYTOPE}-{TAG}.{IMAGE_FORMAT}\"), dpi=DPI)"
   ]
  },
  {
   "cell_type": "markdown",
   "id": "327d8bd3",
   "metadata": {},
   "source": [
    "## STL\n",
    "Export as STL (wireframe)"
   ]
  },
  {
   "cell_type": "code",
   "execution_count": null,
   "id": "eda3e836",
   "metadata": {},
   "outputs": [],
   "source": [
    "TAG = get_tag()\n",
    "\n",
    "from tope.stl import create_stl_from_net, stl_dimensions, define_scale\n",
    "from math import sqrt\n",
    "\n",
    "SCALE = define_scale(N, STL_BOX_SIZE, STL_THICKNESS)\n",
    "\n",
    "t = sqrt((STL_THICKNESS/SCALE)**2/2)\n",
    "\n",
    "thing = create_stl_from_net(N, t, walls=False)\n",
    "assert thing.check()\n",
    "\n",
    "thing.vectors = SCALE*thing.vectors\n",
    "\n",
    "os.makedirs(DIR_STL, exist_ok=True)\n",
    "thing.save(os.path.join(DIR_STL, f\"{POLYTOPE}-{TAG}-wireframe.stl\"))\n",
    "\n",
    "# Print the dimensions\n",
    "stl_dimensions(thing)"
   ]
  },
  {
   "cell_type": "markdown",
   "id": "0f493b9b",
   "metadata": {},
   "source": [
    "X-ray STL plot"
   ]
  },
  {
   "cell_type": "code",
   "execution_count": null,
   "id": "3244f04a",
   "metadata": {},
   "outputs": [],
   "source": [
    "import mpl_toolkits.mplot3d as mpl3d\n",
    "\n",
    "ar = mpl3d.art3d.Poly3DCollection(thing.vectors, lightsource=mpl.colors.LightSource(),facecolors='w', linewidths=1, alpha = 0.1)\n",
    "fig = plt.figure(dpi=DPI)\n",
    "ax = fig.add_subplot(projection='3d')\n",
    "ax.add_artist(ar)\n",
    "\n",
    "ax = configure_axes_3d(ax, thing.vectors, bg=BG_COLOR)"
   ]
  },
  {
   "cell_type": "markdown",
   "id": "0b431b26",
   "metadata": {},
   "source": [
    "Export as STl (walls)"
   ]
  },
  {
   "cell_type": "code",
   "execution_count": null,
   "id": "2b25b8ae",
   "metadata": {},
   "outputs": [],
   "source": [
    "TAG = get_tag()\n",
    "\n",
    "from tope.stl import create_stl_from_net\n",
    "thing = create_stl_from_net(N, STL_THICKNESS, walls=True)\n",
    "assert thing.check()\n",
    "\n",
    "os.makedirs(DIR_STL, exist_ok=True)\n",
    "thing.save(os.path.join(DIR_STL, f\"{POLYTOPE}-{TAG}.stl\"))"
   ]
  },
  {
   "cell_type": "markdown",
   "id": "950b18f9",
   "metadata": {},
   "source": [
    "### Plotly mesh object (navigable in notebook)"
   ]
  },
  {
   "cell_type": "code",
   "execution_count": null,
   "id": "36a858cb",
   "metadata": {},
   "outputs": [],
   "source": [
    "def color_by_numbers(x: Iterable, lim, scheme=COLOR_SCHEME):\n",
    "    cm = mpl.colormaps[scheme]\n",
    "    return [cm(n/lim) for n in x]\n",
    "\n",
    "def color_faces(F: Tope, lim, scheme=COLOR_SCHEME) -> list[tuple]:\n",
    "    return color_by_numbers((face[\"index\"] for face in F.meta[2]), lim, scheme=scheme)"
   ]
  },
  {
   "cell_type": "code",
   "execution_count": null,
   "id": "80703139",
   "metadata": {},
   "outputs": [],
   "source": [
    "triangles = []\n",
    "colors = []\n",
    "n_faces = len(P.faces[2])\n",
    "\n",
    "for facet in N.facets.values():\n",
    "    facet_colors = color_faces(facet, n_faces, scheme=COLOR_SCHEME)\n",
    "    for i in range(len(facet.faces[2])):     # face index\n",
    "        face = facet.get_face(i, k=2) # polygon embedded in 3d\n",
    "        tri = list(face.triangulate())\n",
    "        triangles.extend(tri)\n",
    "        colors.extend([facet_colors[i]] * len(tri)) # repeat ith color for number of triangles in the face"
   ]
  },
  {
   "cell_type": "code",
   "execution_count": null,
   "id": "55366338",
   "metadata": {},
   "outputs": [],
   "source": [
    "import plotly\n",
    "plotly.io.renderers.default = \"iframe\"\n",
    "import plotly.graph_objects as go"
   ]
  },
  {
   "cell_type": "markdown",
   "id": "45486dc8",
   "metadata": {},
   "source": [
    "triangles = []\n",
    "colors = []\n",
    "for n, p in N.facets.items():\n",
    "    tri = list(p.triangulate())\n",
    "    triangles.extend(tri)\n",
    "    color = colored_faces\n",
    "    colors.extend([color]*len(tri))"
   ]
  },
  {
   "cell_type": "code",
   "execution_count": null,
   "id": "ce3f5639",
   "metadata": {},
   "outputs": [],
   "source": [
    "verts = np.concatenate(triangles)\n",
    "i = np.arange(len(triangles)) * 3\n",
    "\n",
    "mesh = go.Mesh3d(x=verts[:,0], y=verts[:,1], z=verts[:,2],\n",
    "                 i=i, j=i+1, k=i+2, facecolor=colors)\n",
    "go.Figure(mesh)"
   ]
  },
  {
   "cell_type": "markdown",
   "id": "01817b79",
   "metadata": {},
   "source": [
    "## Experimental: shaded 3d net"
   ]
  },
  {
   "cell_type": "code",
   "execution_count": null,
   "id": "68725b89",
   "metadata": {},
   "outputs": [],
   "source": [
    "l = list(N.facets.values())\n",
    "facet_colors = [mpl.colormaps[COLOR_SCHEME](k/len(l)) for k in range(len(l)) for _ in l[k].triangulate()]"
   ]
  },
  {
   "cell_type": "markdown",
   "id": "f8b33a69",
   "metadata": {},
   "source": [
    "### Preview"
   ]
  },
  {
   "cell_type": "code",
   "execution_count": null,
   "id": "767431af",
   "metadata": {},
   "outputs": [],
   "source": [
    "import mpl_toolkits.mplot3d as mpl3d\n",
    "\n",
    "ar = mpl3d.art3d.Poly3DCollection(thing.vectors, shade=True, lightsource=mpl.colors.LightSource(), facecolors=facet_colors)\n",
    "fig = plt.figure(dpi=DPI)\n",
    "ax = fig.add_subplot(projection='3d')\n",
    "ax.add_artist(ar)\n",
    "\n",
    "ax = configure_axes_3d(ax, thing.vectors, bg=BG_COLOR)"
   ]
  },
  {
   "cell_type": "markdown",
   "id": "d677045d",
   "metadata": {},
   "source": [
    "### Save"
   ]
  },
  {
   "cell_type": "code",
   "execution_count": null,
   "id": "9cdda825",
   "metadata": {},
   "outputs": [],
   "source": [
    "TAG = get_tag()\n",
    "\n",
    "os.makedirs(DIR_SHADED_3D_NET, exist_ok=True)\n",
    "fig.savefig(os.path.join(DIR_SHADED_3D_NET, f\"{POLYTOPE}-{TAG}.{IMAGE_FORMAT}\"), dpi=DPI)"
   ]
  },
  {
   "cell_type": "markdown",
   "id": "c767d5d1",
   "metadata": {},
   "source": [
    "# 2d nets"
   ]
  },
  {
   "cell_type": "code",
   "execution_count": null,
   "id": "d038a0b8",
   "metadata": {},
   "outputs": [],
   "source": [
    "facets = [P.get_facet(i) for i in range(len(P.faces[P.dim-1]))]\n",
    "facet_nets = [F.net().unfold().in_own_span() for F in facets]"
   ]
  },
  {
   "cell_type": "code",
   "execution_count": null,
   "id": "8e42fda7",
   "metadata": {},
   "outputs": [],
   "source": [
    "LABEL_CFG = {\"color\": \"white\", \"fontsize\": \"5\", \"ha\": \"center\", \"va\": \"center\"}\n",
    "\n",
    "def get_facet_label_artists(N: Net):\n",
    "    labels = []\n",
    "    for x in N.facets.values():\n",
    "        pos = x.vertices.mean(axis=0)\n",
    "        txt = str( x.meta[x.dim][0][\"index\"] )\n",
    "        labels.append(Text(*pos, text=txt, **LABEL_CFG))\n",
    "    return labels\n",
    "\n",
    "facet_net_labels = [get_facet_label_artists(F) for F in facet_nets]\n",
    "\n",
    "def get_facet_labels(N: Net):\n",
    "    labels = []\n",
    "    for i, x in N.facets.items():\n",
    "        vertices = x.vertices\n",
    "        labels.append((str(N.tope.meta[N.tope.dim-1][i][\"index\"]), vertices.mean(axis=0)))\n",
    "    return labels\n",
    "\n",
    "from typing import Iterable\n",
    "\n",
    "def create_text_artists(*labels, **cfg) -> Iterable[Text]:\n",
    "    cfg = LABEL_CFG | cfg # default values\n",
    "    return [Text(*label[1], text=str(label[0]), **cfg) for label in labels]"
   ]
  },
  {
   "cell_type": "markdown",
   "id": "47610018",
   "metadata": {},
   "source": [
    "### Preview pane"
   ]
  },
  {
   "cell_type": "code",
   "execution_count": null,
   "id": "5556b6a0",
   "metadata": {
    "scrolled": true
   },
   "outputs": [],
   "source": [
    "lcs = [create_lc(list(net.iter_edges())) for net in facet_nets]\n",
    "\n",
    "# preview nets in approximately square grid\n",
    "h = int(np.ceil(np.sqrt(len(facets))))\n",
    "fig, axs = plt.subplots(h, h, figsize=(h*5,h*5))\n",
    "axs = list(itertools.chain(*axs))\n",
    "\n",
    "# hide and discard unused axes\n",
    "for _ in range(len(axs)-len(lcs)):\n",
    "    axs.pop().set_visible(False)\n",
    "\n",
    "# now display\n",
    "for ax, lc in zip(axs, lcs):\n",
    "    ax.add_collection(lc)\n",
    "    configure_axes(ax, bg=BG_COLOR)"
   ]
  },
  {
   "cell_type": "markdown",
   "id": "980908af",
   "metadata": {},
   "source": [
    "### Save PNGs"
   ]
  },
  {
   "cell_type": "code",
   "execution_count": null,
   "id": "9ea96070",
   "metadata": {},
   "outputs": [],
   "source": [
    "TAG = get_tag()\n",
    "\n",
    "os.makedirs(DIR_2D, exist_ok=True)\n",
    "\n",
    "savedir = os.path.join(DIR_2D, f\"{POLYTOPE}-{TAG}\")\n",
    "os.makedirs(savedir, exist_ok=True)\n",
    "for n, ax in enumerate(axs):\n",
    "    save_subplot(fig, ax, os.path.join(savedir, f\"{n}.{IMAGE_FORMAT}\"), dpi=DPI)"
   ]
  },
  {
   "cell_type": "code",
   "execution_count": null,
   "id": "5f54e3a3",
   "metadata": {},
   "outputs": [],
   "source": [
    "lcs = [create_lc(list(net.iter_edges())) for net in facet_nets]\n",
    "facet_net_labels = [get_facet_label_artists(F) for F in facet_nets]\n",
    "\n",
    "# preview nets in approximately square grid\n",
    "h = int(np.ceil(np.sqrt(len(facets))))\n",
    "fig, axs = plt.subplots(h, h, figsize=(h*5,h*5))\n",
    "axs = list(itertools.chain(*axs))\n",
    "\n",
    "# hide and discard unused axes\n",
    "for _ in range(len(axs)-len(lcs)):\n",
    "    axs.pop().set_visible(False)\n",
    "\n",
    "# now display\n",
    "for ax, lc, labels in zip(axs, lcs, facet_net_labels):\n",
    "    ax.add_collection(lc)\n",
    "    for label in labels:\n",
    "        ax.add_artist(label)\n",
    "    configure_axes(ax, bg=BG_COLOR)"
   ]
  },
  {
   "cell_type": "markdown",
   "id": "05dcdd5b",
   "metadata": {},
   "source": [
    "### Save PNGs"
   ]
  },
  {
   "cell_type": "code",
   "execution_count": null,
   "id": "d71d7ff1",
   "metadata": {},
   "outputs": [],
   "source": [
    "TAG = get_tag()\n",
    "\n",
    "os.makedirs(DIR_2D, exist_ok=True)\n",
    "\n",
    "savedir = os.path.join(DIR_2D, f\"{POLYTOPE}-{TAG}-l\")\n",
    "os.makedirs(savedir, exist_ok=True)\n",
    "for n, ax in enumerate(axs):\n",
    "    save_subplot(fig, ax, os.path.join(savedir, f\"{n}.{IMAGE_FORMAT}\"), dpi=DPI)"
   ]
  },
  {
   "cell_type": "markdown",
   "id": "99e8c275",
   "metadata": {},
   "source": [
    "## Labels and mirror images"
   ]
  },
  {
   "cell_type": "code",
   "execution_count": null,
   "id": "e48cb23a",
   "metadata": {
    "lines_to_next_cell": 2
   },
   "outputs": [],
   "source": [
    "import matplotlib\n",
    "MARGIN_FACTOR = 0.05\n",
    "\n",
    "def get_net_for_facet(P: Tope, i: int, keys=[]) -> Net:\n",
    "    P.save_index()\n",
    "    F = P.get_facet(i, meta_keys=keys)\n",
    "    N = F.net().unfold_with_meta(meta_keys=keys).in_own_span(meta_keys=keys)\n",
    "    return N\n",
    "\n",
    "FacetLabels = list[tuple[str, np.ndarray]] # label, position\n",
    "EdgeList = list[np.ndarray] # list of 2xdim arrays\n",
    "\n",
    "def get_facet_labels(N: Net) -> FacetLabels:\n",
    "    labels = []\n",
    "    for i, x in N.facets.items():\n",
    "        vertices = x.vertices\n",
    "        labels.append((N.tope.meta[N.tope.dim-1][i][\"index\"], vertices.mean(axis=0)))\n",
    "    return labels\n",
    "\n",
    "def get_edges(N: Net) -> EdgeList: # apply to unfolded Net\n",
    "    edges = []\n",
    "    for i, x in N.facets.items():\n",
    "        vertices = x.vertices\n",
    "        facet_template = N.tope.get_face(i) # has correct indices\n",
    "        edges.extend((vertices[list(e)] for e in facet_template.faces[1]))\n",
    "    return edges\n",
    "\n",
    "def plot_nets(\n",
    "    nets: list, \n",
    "    name: str = \"P\", \n",
    "    margin: float = MARGIN_FACTOR, \n",
    "    label_config: dict = {\"fontsize\": 5, \"ha\": \"center\", \"va\": \"center\"},\n",
    "    title_config: dict = {\"fontsize\": 5, \"pad\": -14},\n",
    "    label = True, \n",
    "    mirror = False\n",
    "):    \n",
    "    # Compute common bounding box\n",
    "    bbox = bounding_bbox_from_arrays(*(cell .vertices for N in nets for cell in N.facets.values()))\n",
    "     \n",
    "    # List of figures\n",
    "    figs = []\n",
    "\n",
    "    # Generate images\n",
    "    for i, N in enumerate(nets):\n",
    "\n",
    "        # Define artists\n",
    "        artists = [LineCollection(get_edges(N), colors=\"white\", linewidths=0.2)]    \n",
    "        \n",
    "        # Add labels\n",
    "        if label: \n",
    "            artists.extend(Text(*pos, text=str(l), **label_config, color = 'white') for l, pos in get_facet_labels(N))\n",
    "        \n",
    "        # Draw the actual picture\n",
    "        fig, ax = plot_artists_in_view(*artists, bbox = bbox, margin = margin)\n",
    "        \n",
    "        facet_name = f\"{name}-facet-{i}\"\n",
    "        if mirror:\n",
    "            facet_name = facet_name+\"-mirror\"\n",
    "        if label:\n",
    "            facet_name = facet_name+\"-labels\"\n",
    "        \n",
    "        # title with \"default\" positioning\n",
    "        ax.set_title(facet_name, **title_config)\n",
    "\n",
    "        # If mirror, mirror with respect to the x-axis\n",
    "        if mirror:\n",
    "            ax.invert_xaxis()\n",
    "                \n",
    "        # store and next()\n",
    "        figs.append((facet_name, fig))\n",
    "        matplotlib.pyplot.close()\n",
    "    \n",
    "    return figs\n",
    "\n",
    "nfacets = len(P.faces[P.dim-1])\n",
    "# Get the facet nets\n",
    "nets = [get_net_for_facet(P, i) for i in range(nfacets)]\n",
    "\n",
    "# No labels no mirror\n",
    "figs_nl_nm = plot_nets(nets, mirror = False, label = False)\n",
    "\n",
    "# Labels no mirror\n",
    "figs_l_nm = plot_nets(nets, mirror = False, label = True)\n",
    "\n",
    "# Labels mirror\n",
    "figs_l_m = plot_nets(nets, mirror = True, label = True)\n",
    "\n",
    "# No labels mirror\n",
    "figs_nl_m = plot_nets(nets, mirror = True, label = False)"
   ]
  },
  {
   "cell_type": "markdown",
   "id": "f5e42f58",
   "metadata": {},
   "source": [
    "### Preview"
   ]
  },
  {
   "cell_type": "code",
   "execution_count": null,
   "id": "2d26cf1a",
   "metadata": {},
   "outputs": [],
   "source": [
    "i = 0 # change this for different examples\n",
    "\n",
    "display(figs_nl_nm[i][1])\n",
    "display(figs_l_nm[i][1])\n",
    "display(figs_nl_m[i][1])\n",
    "display(figs_l_m[i][1])"
   ]
  },
  {
   "cell_type": "markdown",
   "id": "5fdab790",
   "metadata": {},
   "source": [
    "### Save zip"
   ]
  },
  {
   "cell_type": "code",
   "execution_count": null,
   "id": "9535c9c4",
   "metadata": {
    "lines_to_next_cell": 2
   },
   "outputs": [],
   "source": [
    "from tope.plot import save_figs_to_zip # THIS TAKES A LITTLE TIME\n",
    "TAG = get_tag()\n",
    "\n",
    "os.makedirs(DIR_2D, exist_ok=True)\n",
    "\n",
    "savedir = os.path.join(DIR_2D, f\"{POLYTOPE}-{TAG}\")\n",
    "os.makedirs(savedir, exist_ok=True)\n",
    "\n",
    "save_figs_to_dir(figs_nl_nm, directory = savedir+'_nolabel_nomirror', force=True)\n",
    "save_figs_to_dir(figs_l_nm, directory = savedir+'_label_nomirror', force=True)\n",
    "save_figs_to_dir(figs_l_m, directory = savedir+'_label_mirror', force=True)\n",
    "save_figs_to_dir(figs_nl_m, directory = savedir+'_nolabel_mirror', force=True)"
   ]
  },
  {
   "cell_type": "markdown",
   "id": "7743309e",
   "metadata": {},
   "source": [
    "=======\n",
    "## Save bundle\n",
    "\n",
    "Run this cell once to bundle all outputs together for download!\n",
    "Note that it will overwrite previous runs."
   ]
  },
  {
   "cell_type": "code",
   "execution_count": null,
   "id": "9ed39c9c",
   "metadata": {},
   "outputs": [],
   "source": [
    "import zipfile\n",
    "\n",
    "with zipfile.ZipFile(f\"{SAVE_DIRECTORY}.zip\", \"w\") as ziph:\n",
    "    for d, _, file_l in os.walk(SAVE_DIRECTORY):\n",
    "        for f in file_l:\n",
    "            ziph.write(os.path.join(d,f))"
   ]
  },
  {
   "cell_type": "code",
   "execution_count": null,
   "id": "96b27340",
   "metadata": {},
   "outputs": [],
   "source": []
  }
 ],
 "metadata": {
  "jupytext": {
   "formats": "ipynb,py:percent",
   "notebook_metadata_filter": "jupytext"
  },
  "kernelspec": {
   "display_name": "Python 3",
   "language": "python",
   "name": "python3"
  },
  "language_info": {
   "codemirror_mode": {
    "name": "ipython",
    "version": 3
   },
   "file_extension": ".py",
   "mimetype": "text/x-python",
   "name": "python",
   "nbconvert_exporter": "python",
   "pygments_lexer": "ipython3",
   "version": "3.9.4"
  }
 },
 "nbformat": 4,
 "nbformat_minor": 5
}
