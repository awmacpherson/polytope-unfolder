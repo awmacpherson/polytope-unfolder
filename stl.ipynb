{
 "cells": [
  {
   "cell_type": "code",
   "execution_count": 3,
   "id": "a3a6dc57",
   "metadata": {},
   "outputs": [],
   "source": [
    "from tope import Tope\n",
    "from tope.net import *\n",
    "from tope.orth import *\n",
    "from tope.graph import Graph\n",
    "from tests import normalize_polygon\n",
    "\n",
    "import json, os, numpy as np\n",
    "with open(\"polys.json\") as fd: polys = json.load(fd)"
   ]
  },
  {
   "cell_type": "code",
   "execution_count": 4,
   "id": "ec3ced2f",
   "metadata": {},
   "outputs": [],
   "source": [
    "import stl"
   ]
  },
  {
   "cell_type": "code",
   "execution_count": 2,
   "id": "e6793a04",
   "metadata": {},
   "outputs": [],
   "source": [
    "v_24cell = [\n",
    "    [1, 0, 0, 0], [-1, 0, 0, 0],\n",
    "    [0, 1, 0, 0], [0, -1, 0, 0],\n",
    "    [0, 0, 1, 0], [0, 0, -1, 0], \n",
    "    [0, 0, 0, 1], [0, 0, 0, -1],\n",
    "    [1, -1, 0, 0], [-1, 1, 0, 0], \n",
    "    [1, 0, -1, 0], [-1, 0, 1, 0], \n",
    "    [1, 0, 0, -1], [-1, 0, 0, 1], \n",
    "    [0, 1, -1, 0], [0, -1, 1, 0], \n",
    "    [0, 1, 0, -1], [0, -1, 0, 1],\n",
    "    [1, 0, -1, -1], [-1, 0, 1, 1], \n",
    "    [0, 1, -1, -1], [0, -1, 1, 1],\n",
    "    [1, 1, -1, -1], [-1, -1, 1, 1]\n",
    "]"
   ]
  },
  {
   "cell_type": "code",
   "execution_count": 1,
   "id": "3221a524",
   "metadata": {},
   "outputs": [],
   "source": [
    "visible_faces = {59, 56, 42, 55, 56, 29, 52, 20, 63, 85, 62, 92, 68, 98, 50, 53, 8, 20, 15, 52, 20, 53, 62, 59, 49, 54, 24, 57, 29, 26, 84, 85, 92, 91, 83, 86, 67, 68, 73, 74, 61, 90, 89, 70, 5, 46, 69, 93, 94, 72, 73, 48, 32, 31,23,17, 19, 57, 17, 41, 46, 22, 19, 32, 30, 70, 36, 56, 59, 55, 63, 62, 50, 8, 13, 7, 52, 12, 15, 20, 7, 10, 18, 16, 18, 36, 27, 26, 29, 92, 86, 79, 89, 77, 78, 65, 37, 38, 43, 10, 11, 75, 34, 82, 49, 5, 13}"
   ]
  },
  {
   "cell_type": "code",
   "execution_count": 30,
   "id": "d71c42a8",
   "metadata": {},
   "outputs": [
    {
     "name": "stderr",
     "output_type": "stream",
     "text": [
      "2022-07-03 14:47:17.074 | DEBUG    | tope.tope:from_vertices:39 - Computing from set of 24 vertices.\n",
      "2022-07-03 14:47:17.091 | DEBUG    | tope.tope:from_vertices:46 - Found 24 facets.\n",
      "2022-07-03 14:47:17.145 | DEBUG    | tope.tope:from_vertices:87 - Finished processing faces:\n",
      " [[{0}, {1}, {2}, {3}, {4}, {5}, {6}, {7}, {8}, {9}, {10}, {11}, {12}, {13}, {14}, {15}, {16}, {17}, {18}, {19}, {20}, {21}, {22}, {23}], [{0, 21}, {17, 10}, {8, 21}, {8, 17}, {21, 6}, {17, 6}, {17, 21}, {17, 5}, {17, 3}, {17, 13}, {17, 23}, {13, 23}, {3, 23}, {1, 11}, {1, 23}, {4, 21}, {21, 15}, {19, 21}, {21, 23}, {19, 23}, {15, 23}, {11, 23}, {5, 13}, {1, 9}, {1, 13}, {19, 6}, {13, 6}, {19, 13}, {13, 14}, {9, 13}, {9, 11}, {19, 4}, {11, 19}, {2, 19}, {9, 19}, {3, 5}, {1, 7}, {1, 3}, {1, 20}, {1, 5}, {8, 15}, {8, 3}, {3, 15}, {18, 3}, {3, 7}, {11, 7}, {4, 15}, {11, 15}, {16, 11}, {11, 4}, {12, 15}, {7, 15}, {20, 7}, {18, 7}, {16, 7}, {12, 7}, {9, 20}, {9, 14}, {16, 9}, {9, 2}, {16, 20}, {10, 5}, {5, 14}, {18, 5}, {20, 5}, {18, 20}, {20, 14}, {20, 22}, {0, 6}, {10, 6}, {2, 6}, {6, 14}, {2, 14}, {10, 14}, {14, 22}, {0, 4}, {2, 4}, {4, 12}, {16, 4}, {16, 12}, {16, 2}, {16, 22}, {0, 2}, {2, 22}, {0, 8}, {8, 10}, {8, 12}, {8, 18}, {18, 12}, {10, 18}, {18, 22}, {0, 10}, {10, 22}, {0, 12}, {12, 22}, {0, 22}], [{0, 4, 21}, {0, 8, 21}, {0, 21, 6}, {8, 17, 10}, {17, 10, 6}, {17, 10, 5}, {8, 21, 15}, {8, 17, 21}, {8, 17, 3}, {19, 21, 6}, {17, 21, 6}, {17, 13, 6}, {17, 21, 23}, {17, 3, 5}, {17, 13, 5}, {17, 3, 23}, {17, 13, 23}, {1, 11, 9}, {19, 13, 23}, {1, 13, 23}, {3, 23, 15}, {1, 11, 7}, {1, 3, 23}, {1, 11, 23}, {4, 21, 15}, {19, 4, 21}, {23, 21, 15}, {19, 21, 23}, {19, 11, 23}, {11, 23, 15}, {13, 5, 14}, {1, 20, 9}, {1, 13, 5}, {1, 13, 9}, {2, 19, 6}, {13, 6, 14}, {19, 13, 6}, {9, 19, 13}, {9, 13, 14}, {2, 19, 4}, {16, 9, 11}, {19, 9, 11}, {19, 11, 4}, {9, 2, 19}, {18, 3, 5}, {1, 20, 7}, {1, 3, 5}, {1, 3, 7}, {1, 20, 5}, {8, 12, 15}, {8, 18, 3}, {8, 3, 15}, {3, 15, 7}, {18, 3, 7}, {4, 12, 15}, {16, 11, 7}, {11, 15, 7}, {11, 4, 15}, {16, 11, 4}, {12, 15, 7}, {16, 20, 7}, {18, 20, 7}, {18, 12, 7}, {16, 12, 7}, {16, 9, 20}, {9, 20, 14}, {9, 2, 14}, {16, 9, 2}, {16, 20, 22}, {10, 18, 5}, {10, 5, 14}, {20, 5, 14}, {18, 20, 5}, {18, 20, 22}, {20, 14, 22}, {0, 2, 6}, {0, 10, 6}, {10, 6, 14}, {2, 6, 14}, {2, 14, 22}, {10, 14, 22}, {0, 4, 12}, {0, 2, 4}, {16, 2, 4}, {16, 4, 12}, {16, 12, 22}, {16, 2, 22}, {0, 2, 22}, {0, 8, 12}, {0, 8, 10}, {8, 10, 18}, {8, 18, 12}, {18, 12, 22}, {10, 18, 22}, {0, 10, 22}, {0, 12, 22}], [{0, 4, 8, 12, 15, 21}, {0, 2, 4, 6, 19, 21}, {0, 6, 8, 10, 17, 21}, {3, 5, 8, 10, 17, 18}, {5, 6, 10, 13, 14, 17}, {3, 8, 15, 17, 21, 23}, {1, 7, 9, 11, 16, 20}, {6, 13, 17, 19, 21, 23}, {1, 3, 5, 13, 17, 23}, {1, 9, 11, 13, 19, 23}, {1, 3, 7, 11, 15, 23}, {4, 11, 15, 19, 21, 23}, {1, 5, 9, 13, 14, 20}, {2, 6, 9, 13, 14, 19}, {2, 4, 9, 11, 16, 19}, {1, 3, 5, 7, 18, 20}, {3, 7, 8, 12, 15, 18}, {4, 7, 11, 12, 15, 16}, {7, 12, 16, 18, 20, 22}, {2, 9, 14, 16, 20, 22}, {5, 10, 14, 18, 20, 22}, {0, 2, 6, 10, 14, 22}, {0, 2, 4, 12, 16, 22}, {0, 8, 10, 12, 18, 22}]]\n",
      "2022-07-03 14:47:17.161 | DEBUG    | tope.orth:rotate_into_hyperplane:99 - Rotating by 45.00 degrees...\n",
      "2022-07-03 14:47:17.161 | DEBUG    | tope.orth:rotate_into_hyperplane:99 - Rotating by 65.91 degrees...\n",
      "2022-07-03 14:47:17.161 | DEBUG    | tope.orth:rotate_into_hyperplane:99 - Rotating by 60.00 degrees...\n",
      "2022-07-03 14:47:17.161 | DEBUG    | tope.orth:rotate_into_hyperplane:99 - Rotating by 45.00 degrees...\n",
      "2022-07-03 14:47:17.161 | DEBUG    | tope.orth:rotate_into_hyperplane:99 - Rotating by 90.00 degrees...\n",
      "2022-07-03 14:47:17.161 | DEBUG    | tope.orth:rotate_into_hyperplane:99 - Rotating by 60.00 degrees...\n",
      "2022-07-03 14:47:17.176 | DEBUG    | tope.orth:rotate_into_hyperplane:99 - Rotating by 90.00 degrees...\n",
      "2022-07-03 14:47:17.176 | DEBUG    | tope.orth:rotate_into_hyperplane:99 - Rotating by 35.26 degrees...\n",
      "2022-07-03 14:47:17.176 | DEBUG    | tope.orth:rotate_into_hyperplane:99 - Rotating by 30.00 degrees...\n",
      "2022-07-03 14:47:17.192 | DEBUG    | tope.orth:rotate_into_hyperplane:99 - Rotating by 45.00 degrees...\n",
      "2022-07-03 14:47:17.192 | DEBUG    | tope.orth:rotate_into_hyperplane:99 - Rotating by 90.00 degrees...\n",
      "2022-07-03 14:47:17.195 | DEBUG    | tope.orth:rotate_into_hyperplane:99 - Rotating by 90.00 degrees...\n",
      "2022-07-03 14:47:17.195 | DEBUG    | tope.orth:rotate_into_hyperplane:99 - Rotating by 45.00 degrees...\n",
      "2022-07-03 14:47:17.195 | DEBUG    | tope.orth:rotate_into_hyperplane:99 - Rotating by 45.00 degrees...\n",
      "2022-07-03 14:47:17.195 | DEBUG    | tope.orth:rotate_into_hyperplane:99 - Rotating by 90.00 degrees...\n",
      "2022-07-03 14:47:17.195 | DEBUG    | tope.orth:rotate_into_hyperplane:99 - Rotating by 54.74 degrees...\n",
      "2022-07-03 14:47:17.195 | DEBUG    | tope.orth:rotate_into_hyperplane:99 - Rotating by 48.19 degrees...\n",
      "2022-07-03 14:47:17.211 | DEBUG    | tope.orth:rotate_into_hyperplane:99 - Rotating by 35.26 degrees...\n",
      "2022-07-03 14:47:17.211 | DEBUG    | tope.orth:rotate_into_hyperplane:99 - Rotating by 45.00 degrees...\n",
      "2022-07-03 14:47:17.211 | DEBUG    | tope.orth:rotate_into_hyperplane:99 - Rotating by 60.00 degrees...\n",
      "2022-07-03 14:47:17.211 | DEBUG    | tope.orth:rotate_into_hyperplane:99 - Rotating by 45.00 degrees...\n",
      "2022-07-03 14:47:17.211 | DEBUG    | tope.orth:rotate_into_hyperplane:99 - Rotating by 45.00 degrees...\n",
      "2022-07-03 14:47:17.211 | DEBUG    | tope.orth:rotate_into_hyperplane:99 - Rotating by 90.00 degrees...\n"
     ]
    }
   ],
   "source": [
    "P = Tope.from_vertices(v_24cell)\n",
    "node_labels = dict(enumerate(P.faces[-1]))\n",
    "\n",
    "\n",
    "def gemma_pair(i, j):\n",
    "    s = set.intersection(P.faces[-1][i], P.faces[-1][j])\n",
    "    \n",
    "    return s if s in P.faces[-2] and not (P.faces[-2].index(s) in visible_faces) else None\n",
    "\n",
    "G = Graph.from_pairing(node_labels, gemma_pair, node_labels=node_labels)\n",
    "\n",
    "T = G.get_spanning_tree()\n",
    "N = Net(P, T).unfold().in_own_span()"
   ]
  },
  {
   "cell_type": "code",
   "execution_count": 31,
   "id": "0af2e000",
   "metadata": {},
   "outputs": [],
   "source": [
    "# need to locate external faces\n",
    "# any faces not marked by an edge is external\n",
    "verts = np.concatenate(list(N.facets.values()))"
   ]
  },
  {
   "cell_type": "code",
   "execution_count": 32,
   "id": "9bedd2c3",
   "metadata": {},
   "outputs": [],
   "source": [
    "faces = []\n",
    "for k in N.facets:\n",
    "    Fk = P.get_facet(k)\n",
    "    faces.append(np.stack([N.facets[k][sorted(I)] for I in Fk.faces[-1]])) # all have length 3\n",
    "faces = np.concatenate(faces)"
   ]
  },
  {
   "cell_type": "code",
   "execution_count": 33,
   "id": "d41962a4",
   "metadata": {},
   "outputs": [],
   "source": [
    "thing = stl.mesh.Mesh(np.zeros(192, dtype=stl.mesh.Mesh.dtype))\n",
    "thing.vectors[:,:,:] = faces\n",
    "thing.save('thing.stl')"
   ]
  },
  {
   "cell_type": "code",
   "execution_count": 38,
   "id": "03dd2f0b",
   "metadata": {},
   "outputs": [],
   "source": []
  },
  {
   "cell_type": "code",
   "execution_count": 39,
   "id": "fccd7539",
   "metadata": {},
   "outputs": [],
   "source": []
  },
  {
   "cell_type": "code",
   "execution_count": null,
   "id": "54325d06",
   "metadata": {},
   "outputs": [],
   "source": []
  }
 ],
 "metadata": {
  "kernelspec": {
   "display_name": "Python 3",
   "language": "python",
   "name": "python3"
  },
  "language_info": {
   "codemirror_mode": {
    "name": "ipython",
    "version": 3
   },
   "file_extension": ".py",
   "mimetype": "text/x-python",
   "name": "python",
   "nbconvert_exporter": "python",
   "pygments_lexer": "ipython3",
   "version": "3.9.4"
  }
 },
 "nbformat": 4,
 "nbformat_minor": 5
}
