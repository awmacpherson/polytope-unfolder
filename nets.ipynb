{
 "cells": [
  {
   "cell_type": "code",
   "execution_count": 2,
   "id": "a3a6dc57",
   "metadata": {},
   "outputs": [],
   "source": [
    "from tope import Tope\n",
    "from tope.net import *\n",
    "from tope.orth import *\n",
    "from tests import normalize_polygon\n",
    "\n",
    "import json, os, numpy as np\n",
    "rng = np.random.default_rng()\n",
    "with open(\"polys.json\") as fd: polys = json.load(fd)\n",
    "    \n",
    "logger.remove()"
   ]
  },
  {
   "cell_type": "code",
   "execution_count": null,
   "id": "e6793a04",
   "metadata": {},
   "outputs": [],
   "source": [
    "v_24cell = [\n",
    "    [1, 0, 0, 0], [-1, 0, 0, 0],\n",
    "    [0, 1, 0, 0], [0, -1, 0, 0],\n",
    "    [0, 0, 1, 0], [0, 0, -1, 0], \n",
    "    [0, 0, 0, 1], [0, 0, 0, -1],\n",
    "    [1, -1, 0, 0], [-1, 1, 0, 0], \n",
    "    [1, 0, -1, 0], [-1, 0, 1, 0], \n",
    "    [1, 0, 0, -1], [-1, 0, 0, 1], \n",
    "    [0, 1, -1, 0], [0, -1, 1, 0], \n",
    "    [0, 1, 0, -1], [0, -1, 0, 1],\n",
    "    [1, 0, -1, -1], [-1, 0, 1, 1], \n",
    "    [0, 1, -1, -1], [0, -1, 1, 1],\n",
    "    [1, 1, -1, -1], [-1, -1, 1, 1]\n",
    "]"
   ]
  },
  {
   "cell_type": "code",
   "execution_count": null,
   "id": "0af2e000",
   "metadata": {},
   "outputs": [],
   "source": [
    "EdgeList = list[np.ndarray] # list of 2xdim arrays\n",
    "\n",
    "def get_cuts(N: Net) -> EdgeList:\n",
    "    return np.concatenate([N.tope.metadata[2][i][\"cuts\"] for i in range(len(N.facets))])\n",
    "        \n",
    "        \n",
    "def get_edges(N: Net) -> EdgeList: # apply to unfolded Net\n",
    "    edges = []\n",
    "    for i, vertices in N.facets.items():\n",
    "        facet_template = N.tope.get_face(i) # has correct indices\n",
    "        edges.extend((vertices[list(e)] for e in facet_template.faces[1]))\n",
    "    return edges\n",
    "\n",
    "import itertools\n",
    "\n",
    "Net2d = None # new format of Net\n",
    "\n",
    "def iter_edges(N: Net2d) -> Iterable[np.ndarray[2,2]]: # apply to unfolded 2d Net\n",
    "    return N.iter_faces_as_vertices(dim=1)\n",
    "\n",
    "FacetLabels = list[tuple[str, np.ndarray]]\n",
    "\n",
    "def get_facet_labels(N: Net) -> FacetLabels:\n",
    "    labels = []\n",
    "    for i, vertices in N.facets.items():\n",
    "        labels.append((N.tope.metadata[-1][i][\"index\"], vertices.mean(axis=0)))\n",
    "    return labels\n",
    "\n",
    "def iter_labels(N: Net2d, key: str) -> Iterable[str]:\n",
    "    return zip(N.iter_meta(dim=2, key=\"index\"), map(N.iter_cells(), lambda x: x.vertices.mean(axis=0)))"
   ]
  },
  {
   "cell_type": "code",
   "execution_count": null,
   "id": "c1bec6bd",
   "metadata": {},
   "outputs": [],
   "source": [
    "import matplotlib.pyplot as plt\n",
    "from matplotlib.collections import LineCollection # container for line segments\n",
    "from matplotlib.text import Text, Annotation\n",
    "import matplotlib.cm as cm # colour mappings\n",
    "import random"
   ]
  },
  {
   "cell_type": "code",
   "execution_count": null,
   "id": "4fed4eee",
   "metadata": {},
   "outputs": [],
   "source": [
    "def get_net_for_facet(P: Tope, i: int, keys=[]) -> Net:\n",
    "    F = P.get_facet(i, metadata_keys=keys)\n",
    "    G = get_facet_graph(F)\n",
    "    T = G.get_spanning_tree()\n",
    "    N = Net(F, T).unfold_with_metadata(meta_keys=keys).in_own_span(meta_keys=keys)\n",
    "    return N"
   ]
  },
  {
   "cell_type": "code",
   "execution_count": null,
   "id": "7ca95c5f",
   "metadata": {},
   "outputs": [],
   "source": [
    "MARGIN_FACTOR = 1.1\n",
    "\n",
    "def save_nets(P: Tope, name: str, margin_factor: float = MARGIN_FACTOR, dpi: int = 300, force=False, fmt=\"png\"):\n",
    "    if os.path.exists(name):\n",
    "        if force:\n",
    "            if os.path.isdir(name):\n",
    "                logger.warning(\"Directory already exists. Writing anyway.\")\n",
    "            else:\n",
    "                logger.error(\"File already exists and is not a directory. Aborting\")\n",
    "                return\n",
    "        else:\n",
    "            logger.error(\"File already exists. Aborting.\")\n",
    "            return\n",
    "    else:\n",
    "        os.mkdir(name)\n",
    "    \n",
    "    nfacets = len(P.faces[-1])\n",
    "    facet_net_list = []\n",
    "    \n",
    "    xlim = [0,0]\n",
    "    ylim = [0,0]\n",
    "\n",
    "    for i in range(nfacets):\n",
    "        N = get_net_for_facet(P, i, keys=[\"cuts\"])\n",
    "        for face_v in N.facets.values():\n",
    "            lower, upper = face_v.min(axis=0), face_v.max(axis=0)\n",
    "            xlim[0] = min(xlim[0], lower[0])\n",
    "            ylim[0] = min(ylim[0], lower[1])\n",
    "            xlim[1] = max(xlim[1], upper[0])\n",
    "            ylim[1] = max(ylim[1], upper[1])\n",
    "        facet_net_list.append(N)\n",
    "        \n",
    "    xlim[0] *= margin_factor\n",
    "    ylim[0] *= margin_factor\n",
    "    xlim[1] *= margin_factor\n",
    "    ylim[1] *= margin_factor\n",
    "        \n",
    "    for i in range(nfacets):\n",
    "        fig, ax = plt.subplots()\n",
    "        N = facet_net_list[i]\n",
    "        lc = LineCollection(get_edges(N), colors=\"grey\", linewidths=0.2)\n",
    "        ax.add_collection(lc)\n",
    "        cuts = LineCollection(get_cuts(N), colors=\"#c0c7e1\", linewidths=0.1)\n",
    "        ax.add_collection(cuts)\n",
    "        for label, pos in get_facet_labels(N):\n",
    "            ax.add_artist(Text(pos[0], pos[1], text=str(label), fontsize=2, ha=\"center\", va=\"center\"))\n",
    "        \n",
    "        # inset title in root face\n",
    "        title_pos = N.facets[N.tree.root].mean(axis=0) + [0,-.4]\n",
    "        ax.add_artist(Text(*title_pos, text=f\"{name}\\n(facet {i})\", fontsize=2, ha=\"center\", va=\"center\"))\n",
    "\n",
    "        ax.set_title(f\"{name}-facet-{i}\", y=1.0, pad=-14, fontsize=8)\n",
    "        ax.set_xlim(*xlim)\n",
    "        ax.set_ylim(*ylim)\n",
    "        ax.set_aspect(1)\n",
    "        \n",
    "        fname = os.path.join(name, f\"{i}.{fmt}\")\n",
    "        if force and os.path.exists(fname):\n",
    "            logger.warning(f\"Overwriting existing file {fname}.\")\n",
    "            try:\n",
    "                os.unlink(fname)\n",
    "            except OSError as err: # perhaps fname is a directory or we don't have the right permissions\n",
    "                logger.error(str(err))\n",
    "                return\n",
    "        fig.savefig(fname, dpi=dpi)"
   ]
  },
  {
   "cell_type": "code",
   "execution_count": null,
   "id": "393000e9",
   "metadata": {},
   "outputs": [],
   "source": [
    "def get_hyperplanes(*planes, spacing=0.2, r=5):\n",
    "    return [H for L in planes for H in [(L, i*L) for i in np.arange(-r, r, spacing)]]\n",
    "\n",
    "hyperplanes = get_hyperplanes(\n",
    "    *(rng.normal(size=4) for _ in range(4))\n",
    "#    np.array([1,0,0,0]), np.array([0,1,0,0]), np.array([0,0,1,0]), np.array([0,0,0,1])\n",
    ")"
   ]
  },
  {
   "cell_type": "code",
   "execution_count": null,
   "id": "48cdfdbe",
   "metadata": {
    "scrolled": true
   },
   "outputs": [],
   "source": [
    "P = Tope.from_vertices(v_24cell)\n",
    "P.save_index() # now must do this before passing to sub-topes\n",
    "P.cut_2faces_with_hyperplanes(hyperplanes) # and this\n",
    "save_nets(P, \"figs/24cell\", force=True)"
   ]
  },
  {
   "cell_type": "code",
   "execution_count": null,
   "id": "1ba8353f",
   "metadata": {},
   "outputs": [],
   "source": [
    "P = Tope.from_vertices(polys[\"2070\"])\n",
    "P.save_index() # now must do this before passing to sub-topes\n",
    "P.cut_2faces_with_hyperplanes(hyperplanes) # and this\n",
    "save_nets(P, \"figs/2070\", force=True)"
   ]
  },
  {
   "cell_type": "code",
   "execution_count": null,
   "id": "d9b0282f",
   "metadata": {},
   "outputs": [],
   "source": [
    "# sanity check\n",
    "\n",
    "P = Tope.from_vertices(v_24cell)\n",
    "P.save_index() # now must do this before passing to sub-topes\n",
    "P.cut_2faces_with_hyperplanes([(rng.normal(size=4), np.zeros(4)) for _ in range(1)]) # and this\n",
    "#n = get_net_for_facet(P, 0)\n",
    "#save_nets(P, \"figs/24cell\", force=True)\n",
    "F = P.get_face(0,2)\n",
    "\n",
    "origin = F.vertices.mean(axis=0)\n",
    "v, basis = in_own_span(F.vertices-origin)\n",
    "F1 = Tope(v, F.faces, F.metadata)\n",
    "P.apply_to(lambda x : (x-origin)@basis.T, \"cuts\")\n",
    "\n",
    "fig, ax = plt.subplots()\n",
    "lc = LineCollection([F1.vertices[[0,1]], F1.vertices[[1,2]], F1.vertices[[2,0]], P.metadata[2][0][\"cuts\"][0]])\n",
    "ax.add_collection(lc)\n",
    "ax.autoscale()"
   ]
  },
  {
   "cell_type": "code",
   "execution_count": null,
   "id": "72c0c86d",
   "metadata": {},
   "outputs": [],
   "source": [
    "#save_nets(Tope.from_vertices(polys[\"2070\"]), \"figs/2070\", force=True)"
   ]
  },
  {
   "cell_type": "code",
   "execution_count": null,
   "id": "5d5048af",
   "metadata": {},
   "outputs": [],
   "source": [
    "for name, poly in polys.items():\n",
    "    save_nets(Tope.from_vertices(poly), f\"figs/{name}\", force=True)"
   ]
  },
  {
   "cell_type": "code",
   "execution_count": null,
   "id": "e9dad78b",
   "metadata": {},
   "outputs": [],
   "source": [
    "with open(\"../polys1.json\") as fd: data = json.load(fd)"
   ]
  }
 ],
 "metadata": {
  "kernelspec": {
   "display_name": "Python 3",
   "language": "python",
   "name": "python3"
  },
  "language_info": {
   "codemirror_mode": {
    "name": "ipython",
    "version": 3
   },
   "file_extension": ".py",
   "mimetype": "text/x-python",
   "name": "python",
   "nbconvert_exporter": "python",
   "pygments_lexer": "ipython3",
   "version": "3.9.4"
  }
 },
 "nbformat": 4,
 "nbformat_minor": 5
}
