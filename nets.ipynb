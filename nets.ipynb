{
 "cells": [
  {
   "cell_type": "code",
   "execution_count": null,
   "id": "a3a6dc57",
   "metadata": {},
   "outputs": [],
   "source": [
    "from tope import Tope\n",
    "from tope.net import *\n",
    "from tope.orth import *\n",
    "\n",
    "import json, os, numpy as np\n",
    "with open(\"polys.json\") as fd: polys = json.load(fd)"
   ]
  },
  {
   "cell_type": "code",
   "execution_count": null,
   "id": "8a5a52e5",
   "metadata": {},
   "outputs": [],
   "source": [
    "v_24cell = [\n",
    "    [1, 0, 0, 0], [-1, 0, 0, 0],\n",
    "    [0, 1, 0, 0], [0, -1, 0, 0],\n",
    "    [0, 0, 1, 0], [0, 0, -1, 0], \n",
    "    [0, 0, 0, 1], [0, 0, 0, -1],\n",
    "    [1, -1, 0, 0], [-1, 1, 0, 0], \n",
    "    [1, 0, -1, 0], [-1, 0, 1, 0], \n",
    "    [1, 0, 0, -1], [-1, 0, 0, 1], \n",
    "    [0, 1, -1, 0], [0, -1, 1, 0], \n",
    "    [0, 1, 0, -1], [0, -1, 0, 1],\n",
    "    [1, 0, -1, -1], [-1, 0, 1, 1], \n",
    "    [0, 1, -1, -1], [0, -1, 1, 1],\n",
    "    [1, 1, -1, -1], [-1, -1, 1, 1]\n",
    "]"
   ]
  },
  {
   "cell_type": "code",
   "execution_count": null,
   "id": "0af2e000",
   "metadata": {},
   "outputs": [],
   "source": [
    "EdgeList = list[np.ndarray] # list of 2xdim arrays\n",
    "\n",
    "def get_edges(N: Net) -> EdgeList: # apply to unfolded Net\n",
    "    edges = []\n",
    "    for i, vertices in N.facets.items():\n",
    "        facet_template = N.tope.get_face(i) # has correct indices\n",
    "        edges.extend((vertices[list(e)] for e in facet_template.faces[1]))\n",
    "    return edges\n",
    "\n",
    "FacetLabels = list[tuple[str, np.ndarray]]\n",
    "\n",
    "def get_facet_labels(N: Net) -> FacetLabels:\n",
    "    labels = []\n",
    "    for i, vertices in N.facets.items():\n",
    "        labels.append((N.tope.labels[-1][i], vertices.mean(axis=0)))\n",
    "    return labels"
   ]
  },
  {
   "cell_type": "code",
   "execution_count": null,
   "id": "c1bec6bd",
   "metadata": {},
   "outputs": [],
   "source": [
    "import matplotlib.pyplot as plt\n",
    "from matplotlib.collections import LineCollection # container for line segments\n",
    "from matplotlib.text import Text, Annotation\n",
    "import matplotlib.cm as cm # colour mappings\n",
    "import random"
   ]
  },
  {
   "cell_type": "code",
   "execution_count": null,
   "id": "4fed4eee",
   "metadata": {},
   "outputs": [],
   "source": [
    "def get_net_for_facet(P: Tope, i: int) -> Net:\n",
    "    F=P.get_face(i)\n",
    "    labels = F.labels\n",
    "    F = F.in_own_span\n",
    "    if F.vertices.shape[1] >= P.vertices.shape[1]:\n",
    "        print(\"Failed: facet doesn't live in a subspace.\")\n",
    "        return False\n",
    "    F.labels = labels\n",
    "    \n",
    "    G = get_facet_graph(F)\n",
    "    T = G.get_spanning_tree(root=0, skip=set())\n",
    "    N = Net(F, T)\n",
    "    N.unfold()\n",
    "    \n",
    "    put_in_own_span(N)\n",
    "    #print(N.facets)\n",
    "    if N.facets[0].shape[1] > 2:\n",
    "        print(\"Failed: net doesn't live in a plane.\")\n",
    "        return False\n",
    "    \n",
    "    return N"
   ]
  },
  {
   "cell_type": "code",
   "execution_count": null,
   "id": "7ca95c5f",
   "metadata": {},
   "outputs": [],
   "source": [
    "MARGIN_FACTOR = 1.1\n",
    "\n",
    "def save_nets(P: Tope, name: str, margin_factor: float = MARGIN_FACTOR, dpi: int = 300, force=False):\n",
    "    if os.path.exists(name):\n",
    "        if force:\n",
    "            if os.path.isdir(name):\n",
    "                logger.warning(\"Directory already exists. Writing anyway.\")\n",
    "            else:\n",
    "                logger.error(\"File already exists and is not a directory. Aborting\")\n",
    "                return\n",
    "        else:\n",
    "            logger.error(\"File already exists. Aborting.\")\n",
    "            return\n",
    "    else:\n",
    "        os.mkdir(name)\n",
    "    \n",
    "    nfacets = len(P.faces[-1])\n",
    "    facet_net_list = []\n",
    "    \n",
    "    xlim = [0,0]\n",
    "    ylim = [0,0]\n",
    "\n",
    "    for i in range(nfacets):\n",
    "        N = get_net_for_facet(P, i)\n",
    "        for face_v in N.facets.values():\n",
    "            lower, upper = face_v.min(axis=0), face_v.max(axis=0)\n",
    "            xlim[0] = min(xlim[0], lower[0])\n",
    "            ylim[0] = min(ylim[0], lower[1])\n",
    "            xlim[1] = max(xlim[1], upper[0])\n",
    "            ylim[1] = max(ylim[1], upper[1])\n",
    "        facet_net_list.append(N)\n",
    "        \n",
    "    xlim[0] *= margin_factor\n",
    "    ylim[0] *= margin_factor\n",
    "    xlim[1] *= margin_factor\n",
    "    ylim[1] *= margin_factor\n",
    "        \n",
    "    for i in range(nfacets):\n",
    "        fig, ax = plt.subplots()\n",
    "        N = facet_net_list[i]\n",
    "        lc = LineCollection(get_edges(N), colors=\"grey\", linewidths=0.2)\n",
    "        ax.add_collection(lc)\n",
    "        for label, pos in get_facet_labels(N):\n",
    "            ax.add_artist(Text(pos[0]-0.05, pos[1], text=str(label), fontsize=4, ha=\"center\", va=\"center\"))\n",
    "\n",
    "        ax.set_title(f\"{name}-facet-{i}\", y=1.0, pad=-14, fontsize=8)\n",
    "        ax.set_xlim(*xlim)\n",
    "        ax.set_ylim(*ylim)\n",
    "        \n",
    "        fname = os.path.join(name, f\"{i}.png\")\n",
    "        if force and os.path.exists(fname):\n",
    "            logger.warning(f\"Overwriting existing file {fname}.\")\n",
    "            try:\n",
    "                os.unlink(fname)\n",
    "            except OSError as err: # perhaps fname is a directory or we don't have the right permissions\n",
    "                logger.error(str(err))\n",
    "        fig.savefig(fname, dpi=dpi)"
   ]
  },
  {
   "cell_type": "code",
   "execution_count": null,
   "id": "1d27366e",
   "metadata": {},
   "outputs": [],
   "source": [
    "save_nets(Tope.from_vertices(v_24cell), \"figs/24cell\", force=True)"
   ]
  },
  {
   "cell_type": "code",
   "execution_count": null,
   "id": "72c0c86d",
   "metadata": {},
   "outputs": [],
   "source": [
    "save_nets(Tope.from_vertices(polys[\"2070\"]), \"figs/2070\")"
   ]
  },
  {
   "cell_type": "code",
   "execution_count": null,
   "id": "5d5048af",
   "metadata": {},
   "outputs": [],
   "source": [
    "for name, poly in polys.items():\n",
    "    save_nets(Tope.from_vertices(poly), f\"figs/{name}\")"
   ]
  },
  {
   "cell_type": "code",
   "execution_count": null,
   "id": "bd5c5e38",
   "metadata": {},
   "outputs": [],
   "source": [
    "ID = \"\"\n",
    "with open(\"../polys1.json\") as fd: data = json.load(fd)\n",
    "save_nets(Tope.from_vertices(data[ID]), f\"figs/{ID}\")"
   ]
  },
  {
   "cell_type": "code",
   "execution_count": null,
   "id": "2b16f8f7",
   "metadata": {},
   "outputs": [],
   "source": []
  }
 ],
 "metadata": {
  "kernelspec": {
   "display_name": "Python 3",
   "language": "python",
   "name": "python3"
  },
  "language_info": {
   "codemirror_mode": {
    "name": "ipython",
    "version": 3
   },
   "file_extension": ".py",
   "mimetype": "text/x-python",
   "name": "python",
   "nbconvert_exporter": "python",
   "pygments_lexer": "ipython3",
   "version": "3.9.4"
  }
 },
 "nbformat": 4,
 "nbformat_minor": 5
}
