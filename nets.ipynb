{
 "cells": [
  {
   "cell_type": "code",
   "execution_count": 1,
   "id": "a3a6dc57",
   "metadata": {},
   "outputs": [],
   "source": [
    "from tope import Tope\n",
    "from tope.net import *\n",
    "from tope.orth import *\n",
    "from tests import normalize_polygon\n",
    "\n",
    "import json, os, numpy as np\n",
    "with open(\"polys.json\") as fd: polys = json.load(fd)\n",
    "    \n",
    "logger.remove()"
   ]
  },
  {
   "cell_type": "code",
   "execution_count": 5,
   "id": "e6793a04",
   "metadata": {},
   "outputs": [],
   "source": [
    "v_24cell = [\n",
    "    [1, 0, 0, 0], [-1, 0, 0, 0],\n",
    "    [0, 1, 0, 0], [0, -1, 0, 0],\n",
    "    [0, 0, 1, 0], [0, 0, -1, 0], \n",
    "    [0, 0, 0, 1], [0, 0, 0, -1],\n",
    "    [1, -1, 0, 0], [-1, 1, 0, 0], \n",
    "    [1, 0, -1, 0], [-1, 0, 1, 0], \n",
    "    [1, 0, 0, -1], [-1, 0, 0, 1], \n",
    "    [0, 1, -1, 0], [0, -1, 1, 0], \n",
    "    [0, 1, 0, -1], [0, -1, 0, 1],\n",
    "    [1, 0, -1, -1], [-1, 0, 1, 1], \n",
    "    [0, 1, -1, -1], [0, -1, 1, 1],\n",
    "    [1, 1, -1, -1], [-1, -1, 1, 1]\n",
    "]"
   ]
  },
  {
   "cell_type": "code",
   "execution_count": 6,
   "id": "0af2e000",
   "metadata": {},
   "outputs": [],
   "source": [
    "EdgeList = list[np.ndarray] # list of 2xdim arrays\n",
    "\n",
    "def get_edges(N: Net) -> EdgeList: # apply to unfolded Net\n",
    "    edges = []\n",
    "    for i, vertices in N.facets.items():\n",
    "        facet_template = N.tope.get_face(i) # has correct indices\n",
    "        edges.extend((vertices[list(e)] for e in facet_template.faces[1]))\n",
    "    return edges\n",
    "\n",
    "FacetLabels = list[tuple[str, np.ndarray]]\n",
    "\n",
    "def get_facet_labels(N: Net) -> FacetLabels:\n",
    "    labels = []\n",
    "    for i, vertices in N.facets.items():\n",
    "        labels.append((N.tope.metadata[-1][i][\"index\"], vertices.mean(axis=0)))\n",
    "    return labels"
   ]
  },
  {
   "cell_type": "code",
   "execution_count": 7,
   "id": "c1bec6bd",
   "metadata": {},
   "outputs": [],
   "source": [
    "import matplotlib.pyplot as plt\n",
    "from matplotlib.collections import LineCollection # container for line segments\n",
    "from matplotlib.text import Text, Annotation\n",
    "import matplotlib.cm as cm # colour mappings\n",
    "import random"
   ]
  },
  {
   "cell_type": "code",
   "execution_count": 8,
   "id": "4fed4eee",
   "metadata": {},
   "outputs": [],
   "source": [
    "def get_net_for_facet(P: Tope, i: int) -> Net:\n",
    "    P.save_index(key=\"label\") # now must do this before extracting facet\n",
    "    F = P.get_facet(i)\n",
    "    G = get_facet_graph(F)\n",
    "    T = G.get_spanning_tree()\n",
    "    N = Net(F, T).unfold_with_metadata(meta_keys = [\"cuts\"]).in_own_span()\n",
    "    return N"
   ]
  },
  {
   "cell_type": "code",
   "execution_count": 9,
   "id": "7ca95c5f",
   "metadata": {},
   "outputs": [],
   "source": [
    "MARGIN_FACTOR = 1.1\n",
    "\n",
    "def save_nets(P: Tope, name: str, margin_factor: float = MARGIN_FACTOR, dpi: int = 300, force=False):\n",
    "    if os.path.exists(name):\n",
    "        if force:\n",
    "            if os.path.isdir(name):\n",
    "                logger.warning(\"Directory already exists. Writing anyway.\")\n",
    "            else:\n",
    "                logger.error(\"File already exists and is not a directory. Aborting\")\n",
    "                return\n",
    "        else:\n",
    "            logger.error(\"File already exists. Aborting.\")\n",
    "            return\n",
    "    else:\n",
    "        os.mkdir(name)\n",
    "    \n",
    "    nfacets = len(P.faces[-1])\n",
    "    facet_net_list = []\n",
    "    \n",
    "    xlim = [0,0]\n",
    "    ylim = [0,0]\n",
    "\n",
    "    for i in range(nfacets):\n",
    "        N = get_net_for_facet(P, i)\n",
    "        for face_v in N.facets.values():\n",
    "            lower, upper = face_v.min(axis=0), face_v.max(axis=0)\n",
    "            xlim[0] = min(xlim[0], lower[0])\n",
    "            ylim[0] = min(ylim[0], lower[1])\n",
    "            xlim[1] = max(xlim[1], upper[0])\n",
    "            ylim[1] = max(ylim[1], upper[1])\n",
    "        facet_net_list.append(N)\n",
    "        \n",
    "    xlim[0] *= margin_factor\n",
    "    ylim[0] *= margin_factor\n",
    "    xlim[1] *= margin_factor\n",
    "    ylim[1] *= margin_factor\n",
    "        \n",
    "    for i in range(nfacets):\n",
    "        fig, ax = plt.subplots()\n",
    "        N = facet_net_list[i]\n",
    "        lc = LineCollection(get_edges(N), colors=\"grey\", linewidths=0.2)\n",
    "        ax.add_collection(lc)\n",
    "        for label, pos in get_facet_labels(N):\n",
    "            ax.add_artist(Text(pos[0], pos[1], text=str(label), fontsize=2, ha=\"center\", va=\"center\"))\n",
    "        \n",
    "        # inset title in root face\n",
    "        title_pos = N.facets[N.tree.root].mean(axis=0) + [0,-.4]\n",
    "        ax.add_artist(Text(*title_pos, text=f\"{name}\\n(facet {i})\", fontsize=2, ha=\"center\", va=\"center\"))\n",
    "\n",
    "        ax.set_title(f\"{name}-facet-{i}\", y=1.0, pad=-14, fontsize=8)\n",
    "        ax.set_xlim(*xlim)\n",
    "        ax.set_ylim(*ylim)\n",
    "        ax.set_aspect(1)\n",
    "        \n",
    "        fname = os.path.join(name, f\"{i}.png\")\n",
    "        if force and os.path.exists(fname):\n",
    "            logger.warning(f\"Overwriting existing file {fname}.\")\n",
    "            try:\n",
    "                os.unlink(fname)\n",
    "            except OSError as err: # perhaps fname is a directory or we don't have the right permissions\n",
    "                logger.error(str(err))\n",
    "                return\n",
    "        fig.savefig(fname, dpi=dpi)"
   ]
  },
  {
   "cell_type": "code",
   "execution_count": null,
   "id": "d9b0282f",
   "metadata": {},
   "outputs": [],
   "source": [
    "#save_nets(Tope.from_vertices(v_24cell), \"figs/24cell\", force=True)"
   ]
  },
  {
   "cell_type": "code",
   "execution_count": null,
   "id": "72c0c86d",
   "metadata": {},
   "outputs": [],
   "source": [
    "#save_nets(Tope.from_vertices(polys[\"2070\"]), \"figs/2070\", force=True)"
   ]
  },
  {
   "cell_type": "code",
   "execution_count": null,
   "id": "5d5048af",
   "metadata": {},
   "outputs": [],
   "source": [
    "for name, poly in polys.items():\n",
    "    save_nets(Tope.from_vertices(poly), f\"figs/{name}\", force=True)"
   ]
  },
  {
   "cell_type": "code",
   "execution_count": 3,
   "id": "e9dad78b",
   "metadata": {},
   "outputs": [],
   "source": [
    "with open(\"../polys1.json\") as fd: data = json.load(fd)"
   ]
  },
  {
   "cell_type": "code",
   "execution_count": null,
   "id": "bd5c5e38",
   "metadata": {},
   "outputs": [],
   "source": [
    "#ID = \"\"\n",
    "for _ in range(10):\n",
    "    k, v = data.popitem()\n",
    "    P = Tope.from_vertices(v)\n",
    "    if len(P.faces[-1]) < 25: continue\n",
    "    save_nets(P, f\"figs/{k}\")"
   ]
  },
  {
   "cell_type": "code",
   "execution_count": 4,
   "id": "da8052c7",
   "metadata": {},
   "outputs": [
    {
     "name": "stdout",
     "output_type": "stream",
     "text": [
      "192153\n",
      "250561\n",
      "1206449\n",
      "1226247\n",
      "1736917\n",
      "2347951\n",
      "2349369\n",
      "3107341\n",
      "4815325\n",
      "4902603\n",
      "4622417\n",
      "4846643\n",
      "5042497\n",
      "5042793\n",
      "5055703\n",
      "5127949\n",
      "5560559\n",
      "5792367\n",
      "5919509\n",
      "6155705\n",
      "6390055\n",
      "2642627\n",
      "2761299\n",
      "2865097\n",
      "3328185\n",
      "4499777\n",
      "5055429\n",
      "5239323\n",
      "1135827\n",
      "1347389\n",
      "1554743\n",
      "2589049\n",
      "2862713\n",
      "2347811\n",
      "2474007\n",
      "561637\n",
      "668671\n",
      "2906037\n",
      "3034405\n",
      "4496469\n",
      "4694845\n",
      "5013575\n",
      "1206731\n",
      "3723609\n",
      "5797129\n",
      "4615417\n",
      "4829339\n",
      "5131537\n",
      "2471227\n",
      "2514727\n",
      "2590101\n",
      "2772257\n",
      "2904929\n",
      "2864749\n",
      "3252051\n",
      "4894261\n",
      "4497119\n",
      "4695067\n",
      "4904951\n",
      "6147783\n",
      "1158915\n",
      "4496259\n",
      "4694113\n",
      "5469045\n",
      "5493895\n",
      "5994655\n",
      "2387203\n",
      "1226255\n",
      "1369835\n",
      "3032013\n",
      "2337333\n",
      "2348413\n",
      "2470937\n",
      "2865395\n",
      "3034831\n",
      "4496789\n",
      "4696385\n",
      "4903271\n",
      "5044393\n",
      "5494155\n",
      "4622443\n",
      "5260719\n"
     ]
    },
    {
     "ename": "KeyboardInterrupt",
     "evalue": "",
     "output_type": "error",
     "traceback": [
      "\u001b[1;31m---------------------------------------------------------------------------\u001b[0m",
      "\u001b[1;31mKeyboardInterrupt\u001b[0m                         Traceback (most recent call last)",
      "\u001b[1;32m<ipython-input-4-5b815849df8c>\u001b[0m in \u001b[0;36m<module>\u001b[1;34m\u001b[0m\n\u001b[0;32m      1\u001b[0m \u001b[1;32mfor\u001b[0m \u001b[0mk\u001b[0m\u001b[1;33m,\u001b[0m \u001b[0mv\u001b[0m \u001b[1;32min\u001b[0m \u001b[0mdata\u001b[0m\u001b[1;33m.\u001b[0m\u001b[0mitems\u001b[0m\u001b[1;33m(\u001b[0m\u001b[1;33m)\u001b[0m\u001b[1;33m:\u001b[0m\u001b[1;33m\u001b[0m\u001b[1;33m\u001b[0m\u001b[0m\n\u001b[1;32m----> 2\u001b[1;33m     \u001b[0mP\u001b[0m \u001b[1;33m=\u001b[0m \u001b[0mTope\u001b[0m\u001b[1;33m.\u001b[0m\u001b[0mfrom_vertices\u001b[0m\u001b[1;33m(\u001b[0m\u001b[0mv\u001b[0m\u001b[1;33m)\u001b[0m\u001b[1;33m\u001b[0m\u001b[1;33m\u001b[0m\u001b[0m\n\u001b[0m\u001b[0;32m      3\u001b[0m     \u001b[1;32mif\u001b[0m \u001b[0mlen\u001b[0m\u001b[1;33m(\u001b[0m\u001b[0mP\u001b[0m\u001b[1;33m.\u001b[0m\u001b[0mfaces\u001b[0m\u001b[1;33m[\u001b[0m\u001b[1;33m-\u001b[0m\u001b[1;36m1\u001b[0m\u001b[1;33m]\u001b[0m\u001b[1;33m)\u001b[0m \u001b[1;33m>\u001b[0m \u001b[1;36m24\u001b[0m\u001b[1;33m:\u001b[0m\u001b[1;33m\u001b[0m\u001b[1;33m\u001b[0m\u001b[0m\n\u001b[0;32m      4\u001b[0m         \u001b[0mprint\u001b[0m\u001b[1;33m(\u001b[0m\u001b[0mk\u001b[0m\u001b[1;33m)\u001b[0m\u001b[1;33m\u001b[0m\u001b[1;33m\u001b[0m\u001b[0m\n",
      "\u001b[1;32mC:\\Dropbox\\Work\\computing\\projects\\fanosearch\\polytope-unfolder\\tope\\tope.py\u001b[0m in \u001b[0;36mfrom_vertices\u001b[1;34m(cls, vertices)\u001b[0m\n\u001b[0;32m     54\u001b[0m \u001b[1;33m\u001b[0m\u001b[0m\n\u001b[0;32m     55\u001b[0m         \u001b[1;31m# facets we compute directly from supporting hyperplanes\u001b[0m\u001b[1;33m\u001b[0m\u001b[1;33m\u001b[0m\u001b[1;33m\u001b[0m\u001b[0m\n\u001b[1;32m---> 56\u001b[1;33m         faces [-1] = [\n\u001b[0m\u001b[0;32m     57\u001b[0m             \u001b[0mintersect_set_with_affine_subspace\u001b[0m\u001b[1;33m(\u001b[0m\u001b[0mvertices\u001b[0m\u001b[1;33m,\u001b[0m \u001b[0mA\u001b[0m\u001b[1;33m,\u001b[0m \u001b[0mb\u001b[0m\u001b[1;33m)\u001b[0m\u001b[1;33m\u001b[0m\u001b[1;33m\u001b[0m\u001b[0m\n\u001b[0;32m     58\u001b[0m             \u001b[1;32mfor\u001b[0m \u001b[0mA\u001b[0m\u001b[1;33m,\u001b[0m \u001b[0mb\u001b[0m \u001b[1;32min\u001b[0m \u001b[0mzip\u001b[0m\u001b[1;33m(\u001b[0m\u001b[0m_A\u001b[0m\u001b[1;33m,\u001b[0m \u001b[0m_b\u001b[0m\u001b[1;33m)\u001b[0m\u001b[1;33m\u001b[0m\u001b[1;33m\u001b[0m\u001b[0m\n",
      "\u001b[1;32mC:\\Dropbox\\Work\\computing\\projects\\fanosearch\\polytope-unfolder\\tope\\tope.py\u001b[0m in \u001b[0;36m<listcomp>\u001b[1;34m(.0)\u001b[0m\n\u001b[0;32m     55\u001b[0m         \u001b[1;31m# facets we compute directly from supporting hyperplanes\u001b[0m\u001b[1;33m\u001b[0m\u001b[1;33m\u001b[0m\u001b[1;33m\u001b[0m\u001b[0m\n\u001b[0;32m     56\u001b[0m         faces [-1] = [\n\u001b[1;32m---> 57\u001b[1;33m             \u001b[0mintersect_set_with_affine_subspace\u001b[0m\u001b[1;33m(\u001b[0m\u001b[0mvertices\u001b[0m\u001b[1;33m,\u001b[0m \u001b[0mA\u001b[0m\u001b[1;33m,\u001b[0m \u001b[0mb\u001b[0m\u001b[1;33m)\u001b[0m\u001b[1;33m\u001b[0m\u001b[1;33m\u001b[0m\u001b[0m\n\u001b[0m\u001b[0;32m     58\u001b[0m             \u001b[1;32mfor\u001b[0m \u001b[0mA\u001b[0m\u001b[1;33m,\u001b[0m \u001b[0mb\u001b[0m \u001b[1;32min\u001b[0m \u001b[0mzip\u001b[0m\u001b[1;33m(\u001b[0m\u001b[0m_A\u001b[0m\u001b[1;33m,\u001b[0m \u001b[0m_b\u001b[0m\u001b[1;33m)\u001b[0m\u001b[1;33m\u001b[0m\u001b[1;33m\u001b[0m\u001b[0m\n\u001b[0;32m     59\u001b[0m         ]\n",
      "\u001b[1;32mC:\\Dropbox\\Work\\computing\\projects\\fanosearch\\polytope-unfolder\\tope\\orth.py\u001b[0m in \u001b[0;36mintersect_set_with_affine_subspace\u001b[1;34m(vertices, A, b)\u001b[0m\n\u001b[0;32m      6\u001b[0m \u001b[1;33m\u001b[0m\u001b[0m\n\u001b[0;32m      7\u001b[0m \u001b[1;32mdef\u001b[0m \u001b[0mintersect_set_with_affine_subspace\u001b[0m\u001b[1;33m(\u001b[0m\u001b[0mvertices\u001b[0m\u001b[1;33m:\u001b[0m \u001b[0mnp\u001b[0m\u001b[1;33m.\u001b[0m\u001b[0mndarray\u001b[0m\u001b[1;33m,\u001b[0m \u001b[0mA\u001b[0m\u001b[1;33m,\u001b[0m \u001b[0mb\u001b[0m\u001b[1;33m)\u001b[0m \u001b[1;33m->\u001b[0m \u001b[0mset\u001b[0m\u001b[1;33m:\u001b[0m\u001b[1;33m\u001b[0m\u001b[1;33m\u001b[0m\u001b[0m\n\u001b[1;32m----> 8\u001b[1;33m     \u001b[1;32mreturn\u001b[0m \u001b[0mset\u001b[0m\u001b[1;33m(\u001b[0m \u001b[0mnp\u001b[0m\u001b[1;33m.\u001b[0m\u001b[0marange\u001b[0m\u001b[1;33m(\u001b[0m\u001b[0mlen\u001b[0m\u001b[1;33m(\u001b[0m\u001b[0mvertices\u001b[0m\u001b[1;33m)\u001b[0m\u001b[1;33m)\u001b[0m \u001b[1;33m[\u001b[0m\u001b[0mnp\u001b[0m\u001b[1;33m.\u001b[0m\u001b[0mabs\u001b[0m\u001b[1;33m(\u001b[0m\u001b[0mA\u001b[0m \u001b[1;33m@\u001b[0m \u001b[0mvertices\u001b[0m\u001b[1;33m.\u001b[0m\u001b[0mT\u001b[0m \u001b[1;33m-\u001b[0m \u001b[0mb\u001b[0m\u001b[1;33m)\u001b[0m \u001b[1;33m<\u001b[0m \u001b[0mABS_TOL\u001b[0m\u001b[1;33m]\u001b[0m \u001b[1;33m)\u001b[0m\u001b[1;33m\u001b[0m\u001b[1;33m\u001b[0m\u001b[0m\n\u001b[0m\u001b[0;32m      9\u001b[0m \u001b[1;33m\u001b[0m\u001b[0m\n\u001b[0;32m     10\u001b[0m \u001b[1;32mdef\u001b[0m \u001b[0maffine_span_dim\u001b[0m\u001b[1;33m(\u001b[0m\u001b[0mA\u001b[0m\u001b[1;33m:\u001b[0m \u001b[0mnp\u001b[0m\u001b[1;33m.\u001b[0m\u001b[0mndarray\u001b[0m\u001b[1;33m)\u001b[0m \u001b[1;33m->\u001b[0m \u001b[0mint\u001b[0m\u001b[1;33m:\u001b[0m\u001b[1;33m\u001b[0m\u001b[1;33m\u001b[0m\u001b[0m\n",
      "\u001b[1;31mKeyboardInterrupt\u001b[0m: "
     ]
    }
   ],
   "source": [
    "for k, v in data.items():\n",
    "    P = Tope.from_vertices(v)\n",
    "    if len(P.faces[-1]) > 24:\n",
    "        print(k)"
   ]
  },
  {
   "cell_type": "code",
   "execution_count": null,
   "id": "4317e131",
   "metadata": {},
   "outputs": [],
   "source": [
    "from random import choice"
   ]
  },
  {
   "cell_type": "code",
   "execution_count": null,
   "id": "2e030efb",
   "metadata": {},
   "outputs": [],
   "source": [
    "data.popitem()"
   ]
  },
  {
   "cell_type": "code",
   "execution_count": null,
   "id": "981cd833",
   "metadata": {},
   "outputs": [],
   "source": []
  }
 ],
 "metadata": {
  "kernelspec": {
   "display_name": "Python 3",
   "language": "python",
   "name": "python3"
  },
  "language_info": {
   "codemirror_mode": {
    "name": "ipython",
    "version": 3
   },
   "file_extension": ".py",
   "mimetype": "text/x-python",
   "name": "python",
   "nbconvert_exporter": "python",
   "pygments_lexer": "ipython3",
   "version": "3.9.4"
  }
 },
 "nbformat": 4,
 "nbformat_minor": 5
}
