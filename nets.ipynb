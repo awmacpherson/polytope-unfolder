{
 "cells": [
  {
   "cell_type": "code",
   "execution_count": null,
   "id": "a3a6dc57",
   "metadata": {},
   "outputs": [],
   "source": [
    "from tope import Tope\n",
    "from tope.net import *\n",
    "from tope.orth import *\n",
    "\n",
    "import json, os, numpy as np\n",
    "with open(\"polys.json\") as fd: polys = json.load(fd)"
   ]
  },
  {
   "cell_type": "code",
   "execution_count": 3,
   "id": "0fa63c3d",
   "metadata": {},
   "outputs": [],
   "source": [
    "p_24cell = [\n",
    "    [1, 0, 0, 0], [-1, 0, 0, 0],\n",
    "    [0, 1, 0, 0], [0, -1, 0, 0],\n",
    "    [0, 0, 1, 0], [0, 0, -1, 0], \n",
    "    [0, 0, 0, 1], [0, 0, 0, -1],\n",
    "    [1, -1, 0, 0], [-1, 1, 0, 0], \n",
    "    [1, 0, -1, 0], [-1, 0, 1, 0], \n",
    "    [1, 0, 0, -1], [-1, 0, 0, 1], \n",
    "    [0, 1, -1, 0], [0, -1, 1, 0], \n",
    "    [0, 1, 0, -1], [0, -1, 0, 1],\n",
    "    [1, 0, -1, -1], [-1, 0, 1, 1], \n",
    "    [0, 1, -1, -1], [0, -1, 1, 1],\n",
    "    [1, 1, -1, -1], [-1, -1, 1, 1]\n",
    "]"
   ]
  },
  {
   "cell_type": "code",
   "execution_count": null,
   "id": "a63b0619",
   "metadata": {},
   "outputs": [],
   "source": [
    "# need to get the net in its own span\n",
    "def put_in_own_span(N: Net):\n",
    "    root_facet = N.tope.faces[-1][N.tree.root]\n",
    "    ref_pt = N.tope.vertices[root_facet].mean(axis=0)\n",
    "    \n",
    "    offsets = [0] + [len(vertices) for vertices in N.facets.values()]\n",
    "    offsets = np.cumsum(offsets)\n",
    "    all_vertices = np.concatenate(list(N.facets.values()))\n",
    "    all_vertices, basis = in_own_span(all_vertices - ref_pt)\n",
    "                       \n",
    "    # Need to reflect in one axis if orientation of root face is wrong.\n",
    "    inward_normal = N.tope.vertices.mean(axis=0) - ref_pt\n",
    "    if np.det(np.c_[basis.T, inward_normal]) < 1:\n",
    "        all_vertices[:,d0] = -all_vertices[:,0]\n",
    "    \n",
    "    for i in N.facets:\n",
    "        N.facets[i] = all_vertices[offsets[i]:offsets[i+1]]"
   ]
  },
  {
   "cell_type": "code",
   "execution_count": null,
   "id": "0af2e000",
   "metadata": {},
   "outputs": [],
   "source": [
    "EdgeList = list[np.ndarray] # list of 2xdim arrays\n",
    "\n",
    "def get_edges(N: Net) -> EdgeList: # apply to unfolded Net\n",
    "    edges = []\n",
    "    for i, vertices in N.facets.items():\n",
    "        facet_template = N.tope.get_face(i) # has correct indices\n",
    "        edges.extend((vertices[list(e)] for e in facet_template.faces[1]))\n",
    "    return edges\n",
    "\n",
    "FacetLabels = list[tuple[str, np.ndarray]]\n",
    "\n",
    "def get_facet_labels(N: Net) -> FacetLabels:\n",
    "    labels = []\n",
    "    for i, vertices in N.facets.items():\n",
    "        labels.append((N.tope.labels[-1][i], vertices.mean(axis=0)))\n",
    "    return labels"
   ]
  },
  {
   "cell_type": "code",
   "execution_count": null,
   "id": "c1bec6bd",
   "metadata": {},
   "outputs": [],
   "source": [
    "import matplotlib.pyplot as plt\n",
    "from matplotlib.collections import LineCollection # container for line segments\n",
    "from matplotlib.text import Text, Annotation\n",
    "import matplotlib.cm as cm # colour mappings\n",
    "import random"
   ]
  },
  {
   "cell_type": "markdown",
   "id": "4162756f",
   "metadata": {
    "scrolled": true
   },
   "source": [
    "edges = get_edges(N)\n",
    "        \n",
    "fig, ax = plt.subplots()\n",
    "\n",
    "lc = LineCollection(edges)\n",
    "ax.add_collection(lc)\n",
    "for label, pos in get_facet_labels(N):\n",
    "    ax.add_artist(Text(*pos, text=str(label)))\n",
    "\n",
    "ax.autoscale()\n",
    "fig.savefig(\"fig.png\")\n",
    "fig.show()"
   ]
  },
  {
   "cell_type": "code",
   "execution_count": null,
   "id": "4fed4eee",
   "metadata": {},
   "outputs": [],
   "source": [
    "def get_net_for_facet(P: Tope, i: int) -> Net:\n",
    "    F=P.get_face(i)\n",
    "    labels = F.labels\n",
    "    F = F.in_own_span\n",
    "    if F.vertices.shape[1] >= P.vertices.shape[1]:\n",
    "        print(\"Failed: facet doesn't live in a subspace.\")\n",
    "        return False\n",
    "    F.labels = labels\n",
    "    \n",
    "    G = get_facet_graph(F)\n",
    "    T = G.get_spanning_tree(root=0, skip=set())\n",
    "    N = Net(F, T)\n",
    "    N.unfold()\n",
    "    \n",
    "    put_in_own_span(N)\n",
    "    #print(N.facets)\n",
    "    if N.facets[0].shape[1] > 2:\n",
    "        print(\"Failed: net doesn't live in a plane.\")\n",
    "        return False\n",
    "    \n",
    "    return N"
   ]
  },
  {
   "cell_type": "code",
   "execution_count": null,
   "id": "7ca95c5f",
   "metadata": {},
   "outputs": [],
   "source": [
    "MARGIN_FACTOR = 1.1\n",
    "\n",
    "\n",
    "def save_nets(P: Tope, name: str, margin_factor: float = MARGIN_FACTOR, dpi: int = 300):\n",
    "    if os.path.exists(name):\n",
    "        logger.error(\"File already exists. Aborting.\")\n",
    "        return\n",
    "    os.mkdir(name)\n",
    "    \n",
    "    nfacets = len(P.faces[-1])\n",
    "    facet_net_list = []\n",
    "    \n",
    "    xlim = [0,0]\n",
    "    ylim = [0,0]\n",
    "\n",
    "    for i in range(nfacets):\n",
    "        N = get_net_for_facet(P, i)\n",
    "        for face_v in N.facets.values():\n",
    "            lower, upper = face_v.min(axis=0), face_v.max(axis=0)\n",
    "            xlim[0] = min(xlim[0], lower[0])\n",
    "            ylim[0] = min(ylim[0], lower[1])\n",
    "            xlim[1] = max(xlim[1], upper[0])\n",
    "            ylim[1] = max(ylim[1], upper[1])\n",
    "        facet_net_list.append(N)\n",
    "        \n",
    "    xlim[0] *= margin_factor\n",
    "    ylim[0] *= margin_factor\n",
    "    xlim[1] *= margin_factor\n",
    "    ylim[1] *= margin_factor\n",
    "        \n",
    "    for i in range(nfacets):\n",
    "        fig, ax = plt.subplots()\n",
    "        N = facet_net_list[i]\n",
    "        lc = LineCollection(get_edges(N), colors=\"grey\")\n",
    "        ax.add_collection(lc)\n",
    "        for label, pos in get_facet_labels(N):\n",
    "            ax.add_artist(Text(pos[0]-0.05, pos[1], text=str(label), fontsize=6, ha=\"center\", va=\"center\"))\n",
    "\n",
    "        ax.set_xlim(*xlim)\n",
    "        ax.set_ylim(*ylim)\n",
    "        \n",
    "        fig.savefig(os.path.join(name, f\"{i}.png\"), dpi=dpi)"
   ]
  },
  {
   "cell_type": "code",
   "execution_count": null,
   "id": "72c0c86d",
   "metadata": {},
   "outputs": [],
   "source": [
    "save_nets(Tope.from_vertices(polys[\"2070\"]), \"figs/2070\")"
   ]
  },
  {
   "cell_type": "code",
   "execution_count": null,
   "id": "5d5048af",
   "metadata": {},
   "outputs": [],
   "source": [
    "for name, poly in polys.items():\n",
    "    save_nets(Tope.from_vertices(poly), f\"figs/{name}\")"
   ]
  },
  {
   "cell_type": "code",
   "execution_count": null,
   "id": "bd5c5e38",
   "metadata": {},
   "outputs": [],
   "source": [
    "ID = \"\"\n",
    "with open(\"../polys1.json\") as fd: data = json.load(fd)\n",
    "save_nets(Tope.from_vertices(data[ID]), f\"figs/{ID}\")"
   ]
  },
  {
   "cell_type": "code",
   "execution_count": null,
   "id": "2b16f8f7",
   "metadata": {},
   "outputs": [],
   "source": []
  }
 ],
 "metadata": {
  "kernelspec": {
   "display_name": "Python 3",
   "language": "python",
   "name": "python3"
  },
  "language_info": {
   "codemirror_mode": {
    "name": "ipython",
    "version": 3
   },
   "file_extension": ".py",
   "mimetype": "text/x-python",
   "name": "python",
   "nbconvert_exporter": "python",
   "pygments_lexer": "ipython3",
   "version": "3.9.4"
  }
 },
 "nbformat": 4,
 "nbformat_minor": 5
}
